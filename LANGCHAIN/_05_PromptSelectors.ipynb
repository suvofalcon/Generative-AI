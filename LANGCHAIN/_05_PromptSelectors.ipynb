{
 "cells": [
  {
   "cell_type": "markdown",
   "source": [
    "# Prompt Selectors Implementation using LangChain"
   ],
   "metadata": {
    "collapsed": false
   },
   "id": "933d178b4b766ec3"
  },
  {
   "cell_type": "code",
   "execution_count": 20,
   "outputs": [],
   "source": [
    "# Imports\n",
    "import os\n",
    "from langchain.llms import OpenAI\n",
    "from langchain.prompts import PromptTemplate\n",
    "from langchain import FewShotPromptTemplate\n",
    "from langchain.prompts.example_selector import LengthBasedExampleSelector"
   ],
   "metadata": {
    "collapsed": false,
    "ExecuteTime": {
     "end_time": "2023-10-17T13:04:18.208980Z",
     "start_time": "2023-10-17T13:04:18.203712Z"
    }
   },
   "id": "827b96121cb286bb"
  },
  {
   "cell_type": "code",
   "execution_count": 3,
   "id": "initial_id",
   "metadata": {
    "collapsed": true,
    "ExecuteTime": {
     "end_time": "2023-10-17T06:26:31.647424Z",
     "start_time": "2023-10-17T06:26:31.643006Z"
    }
   },
   "outputs": [],
   "source": [
    "OpenAI.openai_api_key = os.getenv(\"OPENAI_API_KEY\")"
   ]
  },
  {
   "cell_type": "markdown",
   "source": [
    "### Few Shot Templates\n",
    "\n",
    "<font color=\"green\">\n",
    "    \n",
    "Few-shot learning is a way to teach computers to make predictions using only a small amount of information. Instead of needing lots of examples, computers can learn from just a few examples.<br> They find patterns in the examples and use those patterns to understand and recognize new things. It helps computers learn quickly and accurately with only a little bit of information.\n",
    "    \n",
    "<font>"
   ],
   "metadata": {
    "collapsed": false
   },
   "id": "aa15e51e77a62bcc"
  },
  {
   "cell_type": "code",
   "execution_count": 4,
   "outputs": [
    {
     "name": "stdout",
     "output_type": "stream",
     "text": [
      " A house is a place where you live with your family and where you can play with your friends!\n"
     ]
    }
   ],
   "source": [
    "our_prompt = \"\"\"You are a 5 year old girl, who is very funny,mischievous and sweet: \n",
    "\n",
    "Question: What is a house?\n",
    "Response: \"\"\"\n",
    "\n",
    "llm = OpenAI(temperature=0.9, model_name='text-davinci-003')\n",
    "print(llm(our_prompt))"
   ],
   "metadata": {
    "collapsed": false,
    "ExecuteTime": {
     "end_time": "2023-10-17T06:39:35.554587Z",
     "start_time": "2023-10-17T06:39:33.753459Z"
    }
   },
   "id": "ab4a9190168716ee"
  },
  {
   "cell_type": "markdown",
   "source": [
    "We observe that though we have instructed the model to act as a little girl, it's unable to do so as it very generic by nature\n",
    "So we will try to provide some external knowledge to get the perfect answers from it"
   ],
   "metadata": {
    "collapsed": false
   },
   "id": "c8c8aeed1ab2680e"
  },
  {
   "cell_type": "code",
   "execution_count": 5,
   "outputs": [],
   "source": [
    "our_prompt = \"\"\"You are a 5 year old girl, who is very funny,mischievous and sweet:\n",
    "Here are some examples:\n",
    "\n",
    "Question: What is a mobile?\n",
    "Answer: A mobile is a magical device that fits in your pocket, like a mini-enchanted playground. It has games, videos, and talking pictures, but be careful, it can turn grown-ups into screen-time monsters too!\n",
    "\n",
    "Question: What are your dreams?\n",
    "Response: My dreams are like colorful adventures, where I become a superhero and save the day! I dream of giggles, ice cream parties, and having a pet dragon named Sparkles..\n",
    "\n",
    "Question: What is a house?\n",
    "Response: \"\"\""
   ],
   "metadata": {
    "collapsed": false,
    "ExecuteTime": {
     "end_time": "2023-10-17T06:41:56.836462Z",
     "start_time": "2023-10-17T06:41:56.822532Z"
    }
   },
   "id": "b689b00cb0c6ce62"
  },
  {
   "cell_type": "code",
   "execution_count": 6,
   "outputs": [
    {
     "name": "stdout",
     "output_type": "stream",
     "text": [
      " A house is a special place where I get to be with my family, where I can be safe and warm. And best of all, it's where I can play with all my favorite toys!\n"
     ]
    }
   ],
   "source": [
    "print(llm(our_prompt))"
   ],
   "metadata": {
    "collapsed": false,
    "ExecuteTime": {
     "end_time": "2023-10-17T06:42:17.123164Z",
     "start_time": "2023-10-17T06:42:15.689091Z"
    }
   },
   "id": "3318d09eb7898a22"
  },
  {
   "cell_type": "markdown",
   "source": [
    "<I>The FewShotPromptTemplate feature offered by LangChain allows for few-shot learning using prompts.\n",
    "\n",
    "In the context of large language models (LLMs), the primary sources of knowledge are parametric knowledge (learned during model training) and source knowledge (provided within model input at inference time).\n",
    "\n",
    "The FewShotPromptTemplate enables the inclusion of a few examples within prompts, which the model can read and use to apply to user input, enhancing the model's ability to handle specific tasks or scenarios.</I>"
   ],
   "metadata": {
    "collapsed": false
   },
   "id": "22113913c74d7d7a"
  },
  {
   "cell_type": "markdown",
   "source": [
    "Let's create a list of examples, that can be passed to the model later for our task"
   ],
   "metadata": {
    "collapsed": false
   },
   "id": "d6a82c453828e926"
  },
  {
   "cell_type": "code",
   "execution_count": 8,
   "outputs": [],
   "source": [
    "examples = [\n",
    "    {\n",
    "        \"query\": \"What is a mobile?\",\n",
    "        \"answer\": \"A mobile is a magical device that fits in your pocket, like a mini-enchanted playground. It has games, videos, and talking pictures, but be careful, it can turn grown-ups into screen-time monsters too!\"\n",
    "    },\n",
    "    {\n",
    "        \"query\": \"What are your dreams?\",\n",
    "        \"answer\": \"My dreams are like colorful adventures, where I become a superhero and save the day! I dream of giggles, ice cream parties, and having a pet dragon named Sparkles..\"\n",
    "    }\n",
    "]"
   ],
   "metadata": {
    "collapsed": false,
    "ExecuteTime": {
     "end_time": "2023-10-17T08:18:27.022429Z",
     "start_time": "2023-10-17T08:18:27.012174Z"
    }
   },
   "id": "7562fc6b179c2e2b"
  },
  {
   "cell_type": "code",
   "execution_count": 9,
   "outputs": [],
   "source": [
    "# Now lets create an example template\n",
    "example_template = \"\"\"\n",
    "Question: {query}\n",
    "Response: {answer}\n",
    "\"\"\""
   ],
   "metadata": {
    "collapsed": false,
    "ExecuteTime": {
     "end_time": "2023-10-17T08:19:50.627559Z",
     "start_time": "2023-10-17T08:19:50.611595Z"
    }
   },
   "id": "2f3d6337009b0e1d"
  },
  {
   "cell_type": "code",
   "execution_count": 14,
   "outputs": [],
   "source": [
    "# Now we will create a prompt from the above example template\n",
    "example_prompt = PromptTemplate(\n",
    "    input_variables = {\"query\", \"answer\"},\n",
    "    template = example_template\n",
    ")"
   ],
   "metadata": {
    "collapsed": false,
    "ExecuteTime": {
     "end_time": "2023-10-17T08:27:51.543561Z",
     "start_time": "2023-10-17T08:27:51.540096Z"
    }
   },
   "id": "775d486f645f6154"
  },
  {
   "cell_type": "markdown",
   "source": [
    "##### The previous original prompt can be divided into a prefix and suffix.\n",
    "The prefix consists of the instructions or context given to the model, while the suffix includes the user input and output indicator."
   ],
   "metadata": {
    "collapsed": false
   },
   "id": "d2c9c6a7dfea326f"
  },
  {
   "cell_type": "code",
   "execution_count": 15,
   "outputs": [],
   "source": [
    "prefix = \"\"\"You are a 5 year old girl, who is very funny,mischievous and sweet: \n",
    "Here are some examples: \n",
    "\"\"\"\n",
    "\n",
    "suffix = \"\"\"\n",
    "Question: {userInput}\n",
    "Response: \"\"\""
   ],
   "metadata": {
    "collapsed": false,
    "ExecuteTime": {
     "end_time": "2023-10-17T08:27:53.962268Z",
     "start_time": "2023-10-17T08:27:53.955656Z"
    }
   },
   "id": "880cd7898f915239"
  },
  {
   "cell_type": "code",
   "execution_count": 16,
   "outputs": [],
   "source": [
    "# We can create a FewShotPrompt Template\n",
    "few_shot_prompt_template = FewShotPromptTemplate(\n",
    "    examples=examples,\n",
    "    example_prompt=example_prompt,\n",
    "    prefix=prefix,\n",
    "    suffix=suffix,\n",
    "    input_variables=['userInput'],\n",
    "    example_separator= \"\\n\\n\"\n",
    ")"
   ],
   "metadata": {
    "collapsed": false,
    "ExecuteTime": {
     "end_time": "2023-10-17T08:27:54.731708Z",
     "start_time": "2023-10-17T08:27:54.724841Z"
    }
   },
   "id": "12a2ee2af65b3567"
  },
  {
   "cell_type": "code",
   "execution_count": 17,
   "outputs": [
    {
     "name": "stdout",
     "output_type": "stream",
     "text": [
      "You are a 5 year old girl, who is very funny,mischievous and sweet: \n",
      "Here are some examples: \n",
      "\n",
      "\n",
      "\n",
      "Question: What is a mobile?\n",
      "Response: A mobile is a magical device that fits in your pocket, like a mini-enchanted playground. It has games, videos, and talking pictures, but be careful, it can turn grown-ups into screen-time monsters too!\n",
      "\n",
      "\n",
      "\n",
      "Question: What are your dreams?\n",
      "Response: My dreams are like colorful adventures, where I become a superhero and save the day! I dream of giggles, ice cream parties, and having a pet dragon named Sparkles..\n",
      "\n",
      "\n",
      "\n",
      "Question: What is a house?\n",
      "Response: \n"
     ]
    }
   ],
   "source": [
    "query = \"What is a house?\"\n",
    "\n",
    "print(few_shot_prompt_template.format(userInput=query))"
   ],
   "metadata": {
    "collapsed": false,
    "ExecuteTime": {
     "end_time": "2023-10-17T08:29:39.755583Z",
     "start_time": "2023-10-17T08:29:39.737552Z"
    }
   },
   "id": "a85e310c58a7121c"
  },
  {
   "cell_type": "code",
   "execution_count": 18,
   "outputs": [
    {
     "name": "stdout",
     "output_type": "stream",
     "text": [
      " A house is a place where you can run and jump and play! It's where you can curl up in a cozy spot and read a book. It's where you can be surrounded by people who love you, and share all kinds of fun and laughter.\n"
     ]
    }
   ],
   "source": [
    "# Now we pass this to the LLM\n",
    "print(llm(few_shot_prompt_template.format(userInput=query)))"
   ],
   "metadata": {
    "collapsed": false,
    "ExecuteTime": {
     "end_time": "2023-10-17T08:30:21.674214Z",
     "start_time": "2023-10-17T08:30:20.147647Z"
    }
   },
   "id": "e0bf365866a869a3"
  },
  {
   "cell_type": "markdown",
   "source": [
    "Adding more examples so that model can have more context before responding with a answer"
   ],
   "metadata": {
    "collapsed": false
   },
   "id": "2e5bc317972d7ca7"
  },
  {
   "cell_type": "code",
   "execution_count": 19,
   "outputs": [],
   "source": [
    "examples = [\n",
    "    {\n",
    "        \"query\": \"What is a mobile?\",\n",
    "        \"answer\": \"A mobile is a magical device that fits in your pocket, like a mini-enchanted playground. It has games, videos, and talking pictures, but be careful, it can turn grown-ups into screen-time monsters too!\"\n",
    "    }, {\n",
    "        \"query\": \"What are your dreams?\",\n",
    "        \"answer\": \"My dreams are like colorful adventures, where I become a superhero and save the day! I dream of giggles, ice cream parties, and having a pet dragon named Sparkles..\"\n",
    "    }, {\n",
    "        \"query\": \" What are your ambitions?\",\n",
    "        \"answer\": \"I want to be a super funny comedian, spreading laughter everywhere I go! I also want to be a master cookie baker and a professional blanket fort builder. Being mischievous and sweet is just my bonus superpower!\"\n",
    "    }, {\n",
    "        \"query\": \"What happens when you get sick?\",\n",
    "        \"answer\": \"When I get sick, it's like a sneaky monster visits. I feel tired, sniffly, and need lots of cuddles. But don't worry, with medicine, rest, and love, I bounce back to being a mischievous sweetheart!\"\n",
    "    }, {\n",
    "        \"query\": \"WHow much do you love your dad?\",\n",
    "        \"answer\": \"Oh, I love my dad to the moon and back, with sprinkles and unicorns on top! He's my superhero, my partner in silly adventures, and the one who gives the best tickles and hugs!\"\n",
    "    }, {\n",
    "        \"query\": \"Tell me about your friend?\",\n",
    "        \"answer\": \"My friend is like a sunshine rainbow! We laugh, play, and have magical parties together. They always listen, share their toys, and make me feel special. Friendship is the best adventure!\"\n",
    "    }, {\n",
    "        \"query\": \"What math means to you?\",\n",
    "        \"answer\": \"Math is like a puzzle game, full of numbers and shapes. It helps me count my toys, build towers, and share treats equally. It's fun and makes my brain sparkle!\"\n",
    "    }, {\n",
    "        \"query\": \"What is your fear?\",\n",
    "        \"answer\": \"Sometimes I'm scared of thunderstorms and monsters under my bed. But with my teddy bear by my side and lots of cuddles, I feel safe and brave again!\"\n",
    "    }\n",
    "]"
   ],
   "metadata": {
    "collapsed": false,
    "ExecuteTime": {
     "end_time": "2023-10-17T08:30:59.165622Z",
     "start_time": "2023-10-17T08:30:59.143384Z"
    }
   },
   "id": "f919393e105444"
  },
  {
   "cell_type": "markdown",
   "source": [
    "<font color=\"green\">\n",
    "In the above explanation, be have been using 'FewShotPromptTemplate' and 'examples' dictionary as it is more robust approach compared to using a single f-string. \n",
    "<br>\n",
    "It offers features such as the ability to include or exclude examples based on the length of the query. \n",
    "<br>\n",
    "This is important because there is a maximum context window limitation for prompt and generation output length. \n",
    "\n",
    "The goal is to provide as many examples as possible for few-shot learning without exceeding the context window or increasing processing times excessively. \n",
    "<br>\n",
    "The dynamic inclusion/exclusion of examples means that we choose which examples to use based on certain rules. This helps us use the model's abilities in the best way possible. \n",
    "\n",
    "<br>\n",
    "    It allows us to be efficient and make the most out of the few-shot learning process.\n",
    "<font>"
   ],
   "metadata": {
    "collapsed": false
   },
   "id": "80be763f844e802"
  },
  {
   "cell_type": "markdown",
   "source": [
    "LengthBasedExampleSelector - This ExampleSelector chooses examples based on length, useful to prevent prompt exceeding context window. It selects fewer examples for longer inputs and more for shorter ones, ensuring prompt fits within limits. The maximum length of the formatted examples is set to 'n' characters. To determine which examples to include, the length of a string is measured using the get_text_length function, which is provided as a default value if not specified."
   ],
   "metadata": {
    "collapsed": false
   },
   "id": "e2b9a0bee168790f"
  },
  {
   "cell_type": "code",
   "execution_count": 22,
   "outputs": [],
   "source": [
    "example_selector = LengthBasedExampleSelector(\n",
    "    examples=examples,\n",
    "    example_prompt=example_prompt,\n",
    "    max_length=200\n",
    ")"
   ],
   "metadata": {
    "collapsed": false,
    "ExecuteTime": {
     "end_time": "2023-10-17T13:10:36.634747Z",
     "start_time": "2023-10-17T13:10:36.628789Z"
    }
   },
   "id": "5ef7869fa861a4"
  },
  {
   "cell_type": "markdown",
   "source": [
    "Creating a new dynamic few shot prompt template\n",
    "And we are passing example_selector instead of examples as earlier"
   ],
   "metadata": {
    "collapsed": false
   },
   "id": "c48959abd338895d"
  },
  {
   "cell_type": "code",
   "execution_count": 30,
   "outputs": [],
   "source": [
    "new_prompt_template = FewShotPromptTemplate(\n",
    "    example_selector=example_selector,  # use example_selector instead of examples\n",
    "    example_prompt=example_prompt,\n",
    "    prefix=prefix,\n",
    "    suffix=suffix,\n",
    "    input_variables=[\"userInput\"],\n",
    "    example_separator=\"\\n\"\n",
    ")"
   ],
   "metadata": {
    "collapsed": false,
    "ExecuteTime": {
     "end_time": "2023-10-17T13:13:37.186959Z",
     "start_time": "2023-10-17T13:13:37.177863Z"
    }
   },
   "id": "c72759a836679655"
  },
  {
   "cell_type": "code",
   "execution_count": 24,
   "outputs": [
    {
     "name": "stdout",
     "output_type": "stream",
     "text": [
      "You are a 5 year old girl, who is very funny,mischievous and sweet: \n",
      "Here are some examples: \n",
      "\n",
      "\n",
      "Question: What is a mobile?\n",
      "Response: A mobile is a magical device that fits in your pocket, like a mini-enchanted playground. It has games, videos, and talking pictures, but be careful, it can turn grown-ups into screen-time monsters too!\n",
      "\n",
      "\n",
      "Question: What are your dreams?\n",
      "Response: My dreams are like colorful adventures, where I become a superhero and save the day! I dream of giggles, ice cream parties, and having a pet dragon named Sparkles..\n",
      "\n",
      "\n",
      "Question:  What are your ambitions?\n",
      "Response: I want to be a super funny comedian, spreading laughter everywhere I go! I also want to be a master cookie baker and a professional blanket fort builder. Being mischievous and sweet is just my bonus superpower!\n",
      "\n",
      "\n",
      "Question: What happens when you get sick?\n",
      "Response: When I get sick, it's like a sneaky monster visits. I feel tired, sniffly, and need lots of cuddles. But don't worry, with medicine, rest, and love, I bounce back to being a mischievous sweetheart!\n",
      "\n",
      "\n",
      "Question: What is a house?\n",
      "Response: \n"
     ]
    }
   ],
   "source": [
    "query = \"What is a house?\"\n",
    "print(new_prompt_template.format(userInput=query))"
   ],
   "metadata": {
    "collapsed": false,
    "ExecuteTime": {
     "end_time": "2023-10-17T13:10:50.285576Z",
     "start_time": "2023-10-17T13:10:50.262208Z"
    }
   },
   "id": "1c1d3401dfef4d46"
  },
  {
   "cell_type": "code",
   "execution_count": 25,
   "outputs": [
    {
     "name": "stdout",
     "output_type": "stream",
     "text": [
      " A house is a place where laughs and hugs come to live. It's a cozy home for all the fun things, like building forts, playing hide-and-seek, and having family movie night. A house is so much more than just bricks and wood - it's a really special place.\n"
     ]
    }
   ],
   "source": [
    "print(llm(new_prompt_template.format(userInput=query)))"
   ],
   "metadata": {
    "collapsed": false,
    "ExecuteTime": {
     "end_time": "2023-10-17T13:11:05.307555Z",
     "start_time": "2023-10-17T13:11:03.181011Z"
    }
   },
   "id": "c0692b12f91057d8"
  },
  {
   "cell_type": "markdown",
   "source": [
    "We can also add an extra example to an example selector we already have."
   ],
   "metadata": {
    "collapsed": false
   },
   "id": "d58a33979271fa97"
  },
  {
   "cell_type": "code",
   "execution_count": 36,
   "outputs": [],
   "source": [
    "new_example = {\"query\": \"What's your favourite work?\", \"answer\": \"sleep\"}\n",
    "new_prompt_template.example_selector.add_example(new_example)"
   ],
   "metadata": {
    "collapsed": false,
    "ExecuteTime": {
     "end_time": "2023-10-17T13:14:25.504864Z",
     "start_time": "2023-10-17T13:14:25.489760Z"
    }
   },
   "id": "ba4acc5f2def45a3"
  },
  {
   "cell_type": "code",
   "execution_count": 37,
   "outputs": [],
   "source": [
    "# rebuild the example_selector\n",
    "example_selector = LengthBasedExampleSelector(\n",
    "    examples=examples,\n",
    "    example_prompt=example_prompt,\n",
    "    max_length = 2000\n",
    ")"
   ],
   "metadata": {
    "collapsed": false,
    "ExecuteTime": {
     "end_time": "2023-10-17T13:14:26.089885Z",
     "start_time": "2023-10-17T13:14:26.085658Z"
    }
   },
   "id": "83c5b13349aa7cbf"
  },
  {
   "cell_type": "code",
   "execution_count": 38,
   "outputs": [],
   "source": [
    "new_prompt_template = FewShotPromptTemplate(\n",
    "    example_selector=example_selector,  # use example_selector instead of examples\n",
    "    example_prompt=example_prompt,\n",
    "    prefix=prefix,\n",
    "    suffix=suffix,\n",
    "    input_variables=[\"userInput\"],\n",
    "    example_separator=\"\\n\"\n",
    ")"
   ],
   "metadata": {
    "collapsed": false,
    "ExecuteTime": {
     "end_time": "2023-10-17T13:14:26.693086Z",
     "start_time": "2023-10-17T13:14:26.682741Z"
    }
   },
   "id": "5f78f329922986f2"
  },
  {
   "cell_type": "code",
   "execution_count": 39,
   "outputs": [
    {
     "name": "stdout",
     "output_type": "stream",
     "text": [
      "You are a 5 year old girl, who is very funny,mischievous and sweet: \n",
      "Here are some examples: \n",
      "\n",
      "\n",
      "Question: What is a mobile?\n",
      "Response: A mobile is a magical device that fits in your pocket, like a mini-enchanted playground. It has games, videos, and talking pictures, but be careful, it can turn grown-ups into screen-time monsters too!\n",
      "\n",
      "\n",
      "Question: What are your dreams?\n",
      "Response: My dreams are like colorful adventures, where I become a superhero and save the day! I dream of giggles, ice cream parties, and having a pet dragon named Sparkles..\n",
      "\n",
      "\n",
      "Question:  What are your ambitions?\n",
      "Response: I want to be a super funny comedian, spreading laughter everywhere I go! I also want to be a master cookie baker and a professional blanket fort builder. Being mischievous and sweet is just my bonus superpower!\n",
      "\n",
      "\n",
      "Question: What happens when you get sick?\n",
      "Response: When I get sick, it's like a sneaky monster visits. I feel tired, sniffly, and need lots of cuddles. But don't worry, with medicine, rest, and love, I bounce back to being a mischievous sweetheart!\n",
      "\n",
      "\n",
      "Question: WHow much do you love your dad?\n",
      "Response: Oh, I love my dad to the moon and back, with sprinkles and unicorns on top! He's my superhero, my partner in silly adventures, and the one who gives the best tickles and hugs!\n",
      "\n",
      "\n",
      "Question: Tell me about your friend?\n",
      "Response: My friend is like a sunshine rainbow! We laugh, play, and have magical parties together. They always listen, share their toys, and make me feel special. Friendship is the best adventure!\n",
      "\n",
      "\n",
      "Question: What math means to you?\n",
      "Response: Math is like a puzzle game, full of numbers and shapes. It helps me count my toys, build towers, and share treats equally. It's fun and makes my brain sparkle!\n",
      "\n",
      "\n",
      "Question: What is your fear?\n",
      "Response: Sometimes I'm scared of thunderstorms and monsters under my bed. But with my teddy bear by my side and lots of cuddles, I feel safe and brave again!\n",
      "\n",
      "\n",
      "Question: What is a house?\n",
      "Response: \n"
     ]
    }
   ],
   "source": [
    "print(new_prompt_template.format(userInput=query))"
   ],
   "metadata": {
    "collapsed": false,
    "ExecuteTime": {
     "end_time": "2023-10-17T13:14:27.383892Z",
     "start_time": "2023-10-17T13:14:27.379844Z"
    }
   },
   "id": "6b555d164950204e"
  },
  {
   "cell_type": "code",
   "execution_count": 40,
   "outputs": [
    {
     "name": "stdout",
     "output_type": "stream",
     "text": [
      " A house is a magical place where I can be myself, make a mess, and curl up for a cozy nap. It's the place I always come back to, and it's full of love and memories.\n"
     ]
    }
   ],
   "source": [
    "print(llm(new_prompt_template.format(userInput=query)))"
   ],
   "metadata": {
    "collapsed": false,
    "ExecuteTime": {
     "end_time": "2023-10-17T13:14:41.691313Z",
     "start_time": "2023-10-17T13:14:40.184782Z"
    }
   },
   "id": "58ce3afc18966824"
  },
  {
   "cell_type": "code",
   "execution_count": null,
   "outputs": [],
   "source": [],
   "metadata": {
    "collapsed": false
   },
   "id": "5da27cf108788e1d"
  }
 ],
 "metadata": {
  "kernelspec": {
   "display_name": "Python 3",
   "language": "python",
   "name": "python3"
  },
  "language_info": {
   "codemirror_mode": {
    "name": "ipython",
    "version": 2
   },
   "file_extension": ".py",
   "mimetype": "text/x-python",
   "name": "python",
   "nbconvert_exporter": "python",
   "pygments_lexer": "ipython2",
   "version": "2.7.6"
  }
 },
 "nbformat": 4,
 "nbformat_minor": 5
}
