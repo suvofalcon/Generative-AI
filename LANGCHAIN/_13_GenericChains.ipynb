{
 "cells": [
  {
   "cell_type": "markdown",
   "source": [
    "# Generic Chains Overview\n",
    "\n",
    "## Simple Chain\n",
    "\n",
    "The most elementary type of chain is known as the basic chain, which represents the simplest form of crafting a chain. In this setup, there is only one LLM responsible for receiving the input prompt and using it for generating text"
   ],
   "metadata": {
    "collapsed": false
   },
   "id": "104c0a24b59af32a"
  },
  {
   "cell_type": "code",
   "execution_count": 3,
   "id": "initial_id",
   "metadata": {
    "collapsed": true,
    "ExecuteTime": {
     "end_time": "2023-10-26T12:26:47.461564Z",
     "start_time": "2023-10-26T12:26:47.456988Z"
    }
   },
   "outputs": [],
   "source": [
    "from langchain.llms import OpenAI\n",
    "from langchain.prompts import PromptTemplate\n",
    "from langchain.chains import LLMChain"
   ]
  },
  {
   "cell_type": "code",
   "execution_count": 4,
   "outputs": [],
   "source": [
    "# Initialize the OpenAI\n",
    "llm = OpenAI()"
   ],
   "metadata": {
    "collapsed": false,
    "ExecuteTime": {
     "end_time": "2023-10-26T12:26:48.140753Z",
     "start_time": "2023-10-26T12:26:48.134381Z"
    }
   },
   "id": "f119bb679695cc3d"
  },
  {
   "cell_type": "code",
   "execution_count": 5,
   "outputs": [],
   "source": [
    "# creating the prompt\n",
    "prompt = PromptTemplate(\n",
    "    input_variables = [\"place\"],\n",
    "    template = \"Best places to visit in {place}\"\n",
    ")"
   ],
   "metadata": {
    "collapsed": false,
    "ExecuteTime": {
     "end_time": "2023-10-26T12:26:49.435014Z",
     "start_time": "2023-10-26T12:26:49.430778Z"
    }
   },
   "id": "27048c3511f780df"
  },
  {
   "cell_type": "code",
   "execution_count": 6,
   "outputs": [
    {
     "name": "stdout",
     "output_type": "stream",
     "text": [
      "\n",
      "\n",
      "1. Udaipur: Udaipur is known as the 'Venice of the East' and is known for its magnificent palaces, beautiful lakes, and vibrant culture.\n",
      "\n",
      "2. Jaipur: Jaipur is the capital of Rajasthan and is known for its stunning forts and palaces, vibrant bazaars, and mesmerizing cultural attractions.\n",
      "\n",
      "3. Jodhpur: Jodhpur is known as the 'Blue City' and is known for its beautiful Mehrangarh Fort, Umaid Bhawan Palace, and several ancient havelis and temples.\n",
      "\n",
      "4. Jaisalmer: Jaisalmer is the 'Golden City' of Rajasthan and is known for its stunning sand dunes, beautiful havelis, and vibrant culture.\n",
      "\n",
      "5. Pushkar: Pushkar is known for its beautiful Pushkar Lake, vibrant camel fair, and stunning temples.\n",
      "\n",
      "6. Ranthambore National Park: Ranthambore National Park is known for its rich wildlife and is one of the best wildlife reserves in India.\n",
      "\n",
      "7. Bikaner: Bikaner is known for its stunning forts and palaces, vibrant culture, and delicious cuisine\n"
     ]
    }
   ],
   "source": [
    "# Now create the chain\n",
    "chain = LLMChain(llm=llm, prompt=prompt)\n",
    "\n",
    "# We will run the chain, only specifying the input variable\n",
    "print(chain.run(\"Rajasthan\"))"
   ],
   "metadata": {
    "collapsed": false,
    "ExecuteTime": {
     "end_time": "2023-10-26T12:27:49.648090Z",
     "start_time": "2023-10-26T12:26:50.216876Z"
    }
   },
   "id": "d6d0ed3d6ec1bdb1"
  },
  {
   "cell_type": "markdown",
   "source": [
    "## Simple Sequential Chains\n",
    "\n",
    "Simple Sequential Chains involves making a series of consecutive calls to the language model.\n",
    "This approach proves especially valuable when there is a need to utilize the output generated from one call as the input for another call"
   ],
   "metadata": {
    "collapsed": false
   },
   "id": "c5b96d7ed2fba625"
  },
  {
   "cell_type": "code",
   "execution_count": 7,
   "outputs": [],
   "source": [
    "from langchain.chains import SimpleSequentialChain\n",
    "from langchain import HuggingFaceHub"
   ],
   "metadata": {
    "collapsed": false,
    "ExecuteTime": {
     "end_time": "2023-10-26T12:27:54.883672Z",
     "start_time": "2023-10-26T12:27:54.878150Z"
    }
   },
   "id": "50049ed95fccf54b"
  },
  {
   "cell_type": "code",
   "execution_count": 8,
   "outputs": [],
   "source": [
    "template = \"\"\"Please suggest five best places to visit in {place}?\n",
    "\n",
    "YOUR RESPONSE:\n",
    "\"\"\"\n",
    "prompt_template_hf = PromptTemplate(\n",
    "    input_variables=['place'],\n",
    "    template = template\n",
    ")"
   ],
   "metadata": {
    "collapsed": false,
    "ExecuteTime": {
     "end_time": "2023-10-26T12:27:55.946093Z",
     "start_time": "2023-10-26T12:27:55.939502Z"
    }
   },
   "id": "e904ba1d22b7ac11"
  },
  {
   "cell_type": "code",
   "execution_count": 9,
   "outputs": [],
   "source": [
    "#llm_hf = HuggingFaceHub(repo_id=\"google/flan-t5-large\")\n",
    "llm_openai = OpenAI()"
   ],
   "metadata": {
    "collapsed": false,
    "ExecuteTime": {
     "end_time": "2023-10-26T12:28:03.235577Z",
     "start_time": "2023-10-26T12:28:03.229774Z"
    }
   },
   "id": "a3da3c2ff065baf3"
  },
  {
   "cell_type": "code",
   "execution_count": 10,
   "outputs": [],
   "source": [
    "place_chain = LLMChain(llm=llm_openai, prompt=prompt_template_hf)"
   ],
   "metadata": {
    "collapsed": false,
    "ExecuteTime": {
     "end_time": "2023-10-26T12:28:15.839669Z",
     "start_time": "2023-10-26T12:28:15.831905Z"
    }
   },
   "id": "9cdafb6d01c171ed"
  },
  {
   "cell_type": "code",
   "execution_count": 11,
   "outputs": [],
   "source": [
    "template = \"\"\"Given a list of places, please estimate the expenses to visit all of them in local currency and also the days needed {places_list}\n",
    "\n",
    "YOUR RESPONSE:\n",
    "\"\"\"\n",
    "prompt_template_openai = PromptTemplate(\n",
    "    input_variables=['places_list'],\n",
    "    template=template\n",
    ")"
   ],
   "metadata": {
    "collapsed": false,
    "ExecuteTime": {
     "end_time": "2023-10-26T12:28:28.583613Z",
     "start_time": "2023-10-26T12:28:28.577164Z"
    }
   },
   "id": "833c36b005516fa4"
  },
  {
   "cell_type": "code",
   "execution_count": 12,
   "outputs": [],
   "source": [
    "expenses_chain = LLMChain(llm=llm_openai, prompt=prompt_template_openai)"
   ],
   "metadata": {
    "collapsed": false,
    "ExecuteTime": {
     "end_time": "2023-10-26T12:28:32.048334Z",
     "start_time": "2023-10-26T12:28:32.040993Z"
    }
   },
   "id": "4e97373347633133"
  },
  {
   "cell_type": "code",
   "execution_count": 13,
   "outputs": [],
   "source": [
    "final_chain = SimpleSequentialChain(chains=[place_chain, expenses_chain], verbose=True)"
   ],
   "metadata": {
    "collapsed": false,
    "ExecuteTime": {
     "end_time": "2023-10-26T12:28:33.376126Z",
     "start_time": "2023-10-26T12:28:33.369265Z"
    }
   },
   "id": "3015c3625c227415"
  },
  {
   "cell_type": "code",
   "execution_count": 14,
   "outputs": [
    {
     "name": "stdout",
     "output_type": "stream",
     "text": [
      "\n",
      "\n",
      "\u001B[1m> Entering new SimpleSequentialChain chain...\u001B[0m\n",
      "\u001B[36;1m\u001B[1;3m1. Taj Mahal, Agra\n",
      "2. Golden Temple, Amritsar\n",
      "3. Goa\n",
      "4. Nainital\n",
      "5. Jaipur\u001B[0m\n",
      "\u001B[33;1m\u001B[1;3mThe estimated expenses to visit all of these places in Indian Rupees would be approximately 30,000 to 50,000. The days needed would be around 7-10 days.\u001B[0m\n",
      "\n",
      "\u001B[1m> Finished chain.\u001B[0m\n"
     ]
    }
   ],
   "source": [
    "review = final_chain.run(\"India\")"
   ],
   "metadata": {
    "collapsed": false,
    "ExecuteTime": {
     "end_time": "2023-10-26T12:28:37.082010Z",
     "start_time": "2023-10-26T12:28:34.675578Z"
    }
   },
   "id": "558b9e73b8b58bf"
  },
  {
   "cell_type": "code",
   "execution_count": null,
   "outputs": [],
   "source": [],
   "metadata": {
    "collapsed": false
   },
   "id": "96b26679ee765e38"
  }
 ],
 "metadata": {
  "kernelspec": {
   "display_name": "Python 3",
   "language": "python",
   "name": "python3"
  },
  "language_info": {
   "codemirror_mode": {
    "name": "ipython",
    "version": 2
   },
   "file_extension": ".py",
   "mimetype": "text/x-python",
   "name": "python",
   "nbconvert_exporter": "python",
   "pygments_lexer": "ipython2",
   "version": "2.7.6"
  }
 },
 "nbformat": 4,
 "nbformat_minor": 5
}
