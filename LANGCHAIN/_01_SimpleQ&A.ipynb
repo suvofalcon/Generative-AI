{
 "cells": [
  {
   "cell_type": "markdown",
   "source": [
    "# Simple Question and Answer Application || Hugging Face Spaces || Open AI"
   ],
   "metadata": {
    "collapsed": false
   },
   "id": "979e2f82087ca665"
  },
  {
   "cell_type": "markdown",
   "source": [
    "## Library imports"
   ],
   "metadata": {
    "collapsed": false
   },
   "id": "b06dc5a38dd86530"
  },
  {
   "cell_type": "code",
   "execution_count": 1,
   "id": "initial_id",
   "metadata": {
    "collapsed": true,
    "ExecuteTime": {
     "end_time": "2023-10-03T14:42:47.344739Z",
     "start_time": "2023-10-03T14:42:46.446130Z"
    }
   },
   "outputs": [],
   "source": [
    "import os\n",
    "\n",
    "# Langchain has a built-in wrapper for OpenAI using which we can get access to all openai services\n",
    "from langchain.llms import OpenAI\n",
    "from langchain.llms import HuggingFaceHub"
   ]
  },
  {
   "cell_type": "code",
   "execution_count": 2,
   "outputs": [],
   "source": [
    "# Get the OpenAI API Key\n",
    "OpenAI.api_key = os.environ[\"OPENAI_API_KEY\"]"
   ],
   "metadata": {
    "collapsed": false,
    "ExecuteTime": {
     "end_time": "2023-10-03T14:42:48.157123Z",
     "start_time": "2023-10-03T14:42:48.146006Z"
    }
   },
   "id": "855729e991a25efd"
  },
  {
   "cell_type": "markdown",
   "source": [
    "## We will first pass a simple Query to OpenAI"
   ],
   "metadata": {
    "collapsed": false
   },
   "id": "eefbb548673a2356"
  },
  {
   "cell_type": "code",
   "execution_count": 3,
   "outputs": [],
   "source": [
    "# we will use the davinci-003 mode from OpenAI\n",
    "llm = OpenAI(model_name='text-davinci-003')"
   ],
   "metadata": {
    "collapsed": false,
    "ExecuteTime": {
     "end_time": "2023-10-03T14:42:49.933108Z",
     "start_time": "2023-10-03T14:42:49.918352Z"
    }
   },
   "id": "57a6b3c7a1cae42d"
  },
  {
   "cell_type": "code",
   "execution_count": 4,
   "outputs": [],
   "source": [
    "# Build the query\n",
    "query_prompt = \"What is the currency and its corresponding symbol for India ?\"\n",
    "completion = llm(query_prompt)"
   ],
   "metadata": {
    "collapsed": false,
    "ExecuteTime": {
     "end_time": "2023-10-03T14:42:51.869018Z",
     "start_time": "2023-10-03T14:42:50.804009Z"
    }
   },
   "id": "5d934c4f2e7063b3"
  },
  {
   "cell_type": "code",
   "execution_count": 5,
   "outputs": [
    {
     "name": "stdout",
     "output_type": "stream",
     "text": [
      "\n",
      "\n",
      "The currency of India is the Indian Rupee (INR), and its symbol is ₹.\n"
     ]
    }
   ],
   "source": [
    "# Check the completion\n",
    "print(completion)"
   ],
   "metadata": {
    "collapsed": false,
    "ExecuteTime": {
     "end_time": "2023-10-03T14:42:52.645413Z",
     "start_time": "2023-10-03T14:42:52.600769Z"
    }
   },
   "id": "cff73b0d7c774ec7"
  },
  {
   "cell_type": "markdown",
   "source": [
    "## We will now use a open source LLM (google/flan-t5 hosted in Hugging Face"
   ],
   "metadata": {
    "collapsed": false
   },
   "id": "51bb54f66398db53"
  },
  {
   "cell_type": "code",
   "execution_count": 6,
   "outputs": [
    {
     "name": "stderr",
     "output_type": "stream",
     "text": [
      "/usr/local/Caskroom/miniconda/base/envs/genai/lib/python3.11/site-packages/huggingface_hub/utils/_deprecation.py:127: FutureWarning: '__init__' (from 'huggingface_hub.inference_api') is deprecated and will be removed from version '0.19.0'. `InferenceApi` client is deprecated in favor of the more feature-complete `InferenceClient`. Check out this guide to learn how to convert your script to use it: https://huggingface.co/docs/huggingface_hub/guides/inference#legacy-inferenceapi-client.\n",
      "  warnings.warn(warning_message, FutureWarning)\n"
     ]
    }
   ],
   "source": [
    "# instantiate the llm and respective token\n",
    "llm = HuggingFaceHub(repo_id=\"google/flan-t5-large\")"
   ],
   "metadata": {
    "collapsed": false,
    "ExecuteTime": {
     "end_time": "2023-10-03T14:42:55.758373Z",
     "start_time": "2023-10-03T14:42:55.206334Z"
    }
   },
   "id": "d68004c6cc60df87"
  },
  {
   "cell_type": "code",
   "execution_count": 9,
   "outputs": [
    {
     "name": "stdout",
     "output_type": "stream",
     "text": [
      "rupee\n"
     ]
    }
   ],
   "source": [
    "# Build the query\n",
    "query_prompt = \"What is the currency of India ?\"\n",
    "completion = llm(query_prompt)\n",
    "print(completion)"
   ],
   "metadata": {
    "collapsed": false,
    "ExecuteTime": {
     "end_time": "2023-10-03T14:46:53.872746Z",
     "start_time": "2023-10-03T14:46:52.186507Z"
    }
   },
   "id": "972652a4a083ce01"
  },
  {
   "cell_type": "code",
   "execution_count": null,
   "outputs": [],
   "source": [],
   "metadata": {
    "collapsed": false
   },
   "id": "15a207194e9a9b13"
  }
 ],
 "metadata": {
  "kernelspec": {
   "display_name": "Python 3",
   "language": "python",
   "name": "python3"
  },
  "language_info": {
   "codemirror_mode": {
    "name": "ipython",
    "version": 2
   },
   "file_extension": ".py",
   "mimetype": "text/x-python",
   "name": "python",
   "nbconvert_exporter": "python",
   "pygments_lexer": "ipython2",
   "version": "2.7.6"
  }
 },
 "nbformat": 4,
 "nbformat_minor": 5
}
