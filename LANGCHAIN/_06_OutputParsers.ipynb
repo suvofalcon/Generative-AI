{
 "cells": [
  {
   "cell_type": "markdown",
   "source": [
    "# Output Parsers Implementation"
   ],
   "metadata": {
    "collapsed": false
   },
   "id": "6d1a903e92fc845a"
  },
  {
   "cell_type": "markdown",
   "source": [
    "### Imports"
   ],
   "metadata": {
    "collapsed": false
   },
   "id": "e611d5825108f1d2"
  },
  {
   "cell_type": "code",
   "execution_count": 16,
   "id": "initial_id",
   "metadata": {
    "collapsed": true,
    "ExecuteTime": {
     "end_time": "2023-10-18T12:04:48.085631Z",
     "start_time": "2023-10-18T12:04:48.079070Z"
    }
   },
   "outputs": [],
   "source": [
    "import os\n",
    "from langchain.llms import OpenAI\n",
    "from langchain.prompts import PromptTemplate\n",
    "from langchain.output_parsers import CommaSeparatedListOutputParser\n",
    "from langchain.output_parsers import StructuredOutputParser, ResponseSchema"
   ]
  },
  {
   "cell_type": "code",
   "execution_count": 5,
   "outputs": [],
   "source": [
    "# Get the OpenAI Key\n",
    "OpenAI.openai_api_key = os.getenv(\"OPENAI_API_KEY\")"
   ],
   "metadata": {
    "collapsed": false,
    "ExecuteTime": {
     "end_time": "2023-10-18T07:25:30.210306Z",
     "start_time": "2023-10-18T07:25:30.203263Z"
    }
   },
   "id": "f88b439ca33006db"
  },
  {
   "cell_type": "markdown",
   "source": [
    "### Comma Separated List"
   ],
   "metadata": {
    "collapsed": false
   },
   "id": "1194cfa571727d1"
  },
  {
   "cell_type": "code",
   "execution_count": 8,
   "outputs": [],
   "source": [
    "# We will get the format instruction - which is predefined and we pass the same to the LLM\n",
    "output_parser = CommaSeparatedListOutputParser()"
   ],
   "metadata": {
    "collapsed": false,
    "ExecuteTime": {
     "end_time": "2023-10-18T07:26:16.763758Z",
     "start_time": "2023-10-18T07:26:16.757523Z"
    }
   },
   "id": "dab76c7609db6726"
  },
  {
   "cell_type": "code",
   "execution_count": 9,
   "outputs": [
    {
     "data": {
      "text/plain": "'Your response should be a list of comma separated values, eg: `foo, bar, baz`'"
     },
     "execution_count": 9,
     "metadata": {},
     "output_type": "execute_result"
    }
   ],
   "source": [
    "format_instructions = output_parser.get_format_instructions()\n",
    "format_instructions"
   ],
   "metadata": {
    "collapsed": false,
    "ExecuteTime": {
     "end_time": "2023-10-18T07:26:17.236123Z",
     "start_time": "2023-10-18T07:26:17.226826Z"
    }
   },
   "id": "31b1c49a77290490"
  },
  {
   "cell_type": "code",
   "execution_count": 11,
   "outputs": [],
   "source": [
    "# Now we will build the template\n",
    "prompt = PromptTemplate(\n",
    "    template = \"Provide 5 examples of {query}.\\n{format_instructions}\",\n",
    "    input_variables = {\"query\"},\n",
    "    partial_variables = {\"format_instructions\": format_instructions}\n",
    ")"
   ],
   "metadata": {
    "collapsed": false,
    "ExecuteTime": {
     "end_time": "2023-10-18T07:30:17.951821Z",
     "start_time": "2023-10-18T07:30:17.943147Z"
    }
   },
   "id": "7a6e95516865334a"
  },
  {
   "cell_type": "code",
   "execution_count": 14,
   "outputs": [
    {
     "name": "stdout",
     "output_type": "stream",
     "text": [
      "Provide 5 examples of Currencies.\n",
      "Your response should be a list of comma separated values, eg: `foo, bar, baz`\n"
     ]
    }
   ],
   "source": [
    "# build the prompt\n",
    "prompt = prompt.format(query=\"Currencies\")\n",
    "print(prompt)"
   ],
   "metadata": {
    "collapsed": false,
    "ExecuteTime": {
     "end_time": "2023-10-18T07:31:34.707335Z",
     "start_time": "2023-10-18T07:31:34.701600Z"
    }
   },
   "id": "b4b1d25d1be617bb"
  },
  {
   "cell_type": "code",
   "execution_count": 15,
   "outputs": [
    {
     "name": "stdout",
     "output_type": "stream",
     "text": [
      "\n",
      "\n",
      "US Dollar, Euro, Pound Sterling, Japanese Yen, Canadian Dollar\n"
     ]
    }
   ],
   "source": [
    "# lets pass this prompt to the llm\n",
    "llm = OpenAI(temperature=0.9, model_name=\"text-davinci-003\")\n",
    "output = llm(prompt)\n",
    "print(output)"
   ],
   "metadata": {
    "collapsed": false,
    "ExecuteTime": {
     "end_time": "2023-10-18T07:33:05.654329Z",
     "start_time": "2023-10-18T07:33:04.489022Z"
    }
   },
   "id": "ade8d8e2419b3712"
  },
  {
   "cell_type": "markdown",
   "source": [
    "### Json Format"
   ],
   "metadata": {
    "collapsed": false
   },
   "id": "c1064994f255f109"
  },
  {
   "cell_type": "code",
   "execution_count": 17,
   "outputs": [],
   "source": [
    "# First we define the response schema\n",
    "response_schemas = [\n",
    "    ResponseSchema(name=\"currency\", description=\"answer to the user's question\"),\n",
    "    ResponseSchema(name=\"abbreviation\", description=\"Whats the abbrevation of that currency\")\n",
    "]"
   ],
   "metadata": {
    "collapsed": false,
    "ExecuteTime": {
     "end_time": "2023-10-18T12:07:15.639680Z",
     "start_time": "2023-10-18T12:07:15.624965Z"
    }
   },
   "id": "766934b6ace9715"
  },
  {
   "cell_type": "code",
   "execution_count": 18,
   "outputs": [
    {
     "name": "stdout",
     "output_type": "stream",
     "text": [
      "response_schemas=[ResponseSchema(name='currency', description=\"answer to the user's question\", type='string'), ResponseSchema(name='abbreviation', description='Whats the abbrevation of that currency', type='string')]\n"
     ]
    }
   ],
   "source": [
    "# initialize output parser\n",
    "output_parser = StructuredOutputParser.from_response_schemas(response_schemas)\n",
    "print(output_parser)"
   ],
   "metadata": {
    "collapsed": false,
    "ExecuteTime": {
     "end_time": "2023-10-18T12:08:57.306226Z",
     "start_time": "2023-10-18T12:08:57.290877Z"
    }
   },
   "id": "8d30321a68cd4e38"
  },
  {
   "cell_type": "code",
   "execution_count": 19,
   "outputs": [
    {
     "name": "stdout",
     "output_type": "stream",
     "text": [
      "The output should be a markdown code snippet formatted in the following schema, including the leading and trailing \"```json\" and \"```\":\n",
      "\n",
      "```json\n",
      "{\n",
      "\t\"currency\": string  // answer to the user's question\n",
      "\t\"abbreviation\": string  // Whats the abbrevation of that currency\n",
      "}\n",
      "```\n"
     ]
    }
   ],
   "source": [
    "# Now we will derive the format instructions from this output parser\n",
    "format_instructions = output_parser.get_format_instructions()\n",
    "print(format_instructions)"
   ],
   "metadata": {
    "collapsed": false,
    "ExecuteTime": {
     "end_time": "2023-10-18T12:09:59.352052Z",
     "start_time": "2023-10-18T12:09:59.335628Z"
    }
   },
   "id": "e9b543d17d85014"
  },
  {
   "cell_type": "code",
   "execution_count": 22,
   "outputs": [],
   "source": [
    "# Now we build the prompt template\n",
    "prompt = PromptTemplate(\n",
    "    template = \"answer the users question as best as possible.\\n {format_instructions}\\n{query}\",\n",
    "    input_variables = {\"query\"},\n",
    "    partial_variables = {\"format_instructions\": format_instructions}\n",
    ")"
   ],
   "metadata": {
    "collapsed": false,
    "ExecuteTime": {
     "end_time": "2023-10-18T12:23:20.547786Z",
     "start_time": "2023-10-18T12:23:20.539742Z"
    }
   },
   "id": "46ccfa09cdd6cf18"
  },
  {
   "cell_type": "code",
   "execution_count": 23,
   "outputs": [
    {
     "name": "stdout",
     "output_type": "stream",
     "text": [
      "answer the users question as best as possible.\n",
      " The output should be a markdown code snippet formatted in the following schema, including the leading and trailing \"```json\" and \"```\":\n",
      "\n",
      "```json\n",
      "{\n",
      "\t\"currency\": string  // answer to the user's question\n",
      "\t\"abbreviation\": string  // Whats the abbrevation of that currency\n",
      "}\n",
      "```\n",
      "What is the currency of India?\n"
     ]
    }
   ],
   "source": [
    "# build the prompt\n",
    "prompt = prompt.format(query=\"What is the currency of India?\")\n",
    "print(prompt)"
   ],
   "metadata": {
    "collapsed": false,
    "ExecuteTime": {
     "end_time": "2023-10-18T12:24:17.193462Z",
     "start_time": "2023-10-18T12:24:17.174733Z"
    }
   },
   "id": "4b0ab1416ae99a54"
  },
  {
   "cell_type": "code",
   "execution_count": 24,
   "outputs": [
    {
     "name": "stdout",
     "output_type": "stream",
     "text": [
      "\n",
      "\n",
      "```json\n",
      "{\n",
      "\t\"currency\": \"Indian Rupee\" \n",
      "\t\"abbreviation\": \"INR\" \n",
      "}\n",
      "```\n"
     ]
    }
   ],
   "source": [
    "# Now we will pass this to the llm\n",
    "output = llm(prompt)\n",
    "print(output)"
   ],
   "metadata": {
    "collapsed": false,
    "ExecuteTime": {
     "end_time": "2023-10-18T12:26:26.124291Z",
     "start_time": "2023-10-18T12:26:24.598340Z"
    }
   },
   "id": "d0174f3ead5785c5"
  },
  {
   "cell_type": "code",
   "execution_count": null,
   "outputs": [],
   "source": [],
   "metadata": {
    "collapsed": false
   },
   "id": "665c198dcbeff999"
  }
 ],
 "metadata": {
  "kernelspec": {
   "display_name": "Python 3",
   "language": "python",
   "name": "python3"
  },
  "language_info": {
   "codemirror_mode": {
    "name": "ipython",
    "version": 2
   },
   "file_extension": ".py",
   "mimetype": "text/x-python",
   "name": "python",
   "nbconvert_exporter": "python",
   "pygments_lexer": "ipython2",
   "version": "2.7.6"
  }
 },
 "nbformat": 4,
 "nbformat_minor": 5
}
