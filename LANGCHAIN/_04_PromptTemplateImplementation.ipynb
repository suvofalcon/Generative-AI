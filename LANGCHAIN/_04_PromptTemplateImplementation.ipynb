{
 "cells": [
  {
   "cell_type": "markdown",
   "source": [
    "# Prompt Template Implementation using Python"
   ],
   "metadata": {
    "collapsed": false
   },
   "id": "bb56be6ca34c3bb"
  },
  {
   "cell_type": "code",
   "execution_count": 2,
   "id": "initial_id",
   "metadata": {
    "collapsed": true,
    "ExecuteTime": {
     "end_time": "2023-10-16T12:23:11.960293Z",
     "start_time": "2023-10-16T12:23:11.956842Z"
    }
   },
   "outputs": [],
   "source": [
    "# Library Imports\n",
    "\n",
    "import os\n",
    "from langchain.llms import OpenAI\n",
    "from langchain import PromptTemplate"
   ]
  },
  {
   "cell_type": "code",
   "execution_count": 3,
   "outputs": [],
   "source": [
    "# Get the OpenAI Key\n",
    "OpenAI.openai_api_key = os.getenv(\"OPENAI_API_KEY\")"
   ],
   "metadata": {
    "collapsed": false,
    "ExecuteTime": {
     "end_time": "2023-10-16T12:23:48.925664Z",
     "start_time": "2023-10-16T12:23:48.914317Z"
    }
   },
   "id": "2ac572c79f240a7d"
  },
  {
   "cell_type": "code",
   "execution_count": 4,
   "outputs": [],
   "source": [
    "# Initialize the LLM Model\n",
    "llm = OpenAI(model_name=\"text-davinci-003\")"
   ],
   "metadata": {
    "collapsed": false,
    "ExecuteTime": {
     "end_time": "2023-10-16T12:24:31.207045Z",
     "start_time": "2023-10-16T12:24:31.179631Z"
    }
   },
   "id": "a67f9eb76db20b5d"
  },
  {
   "cell_type": "code",
   "execution_count": 5,
   "outputs": [],
   "source": [
    "# Build a simple prompt\n",
    "\n",
    "our_prompt = \"\"\"\n",
    "I love trips, and I have been to 6 countries.\n",
    "I plan to visit few more soon.\n",
    "\n",
    "Can you create a tweet for the above in 10 words or less ?\n",
    "\"\"\""
   ],
   "metadata": {
    "collapsed": false,
    "ExecuteTime": {
     "end_time": "2023-10-16T12:25:54.097889Z",
     "start_time": "2023-10-16T12:25:54.091961Z"
    }
   },
   "id": "abf65fa00557827c"
  },
  {
   "cell_type": "code",
   "execution_count": 7,
   "outputs": [
    {
     "name": "stdout",
     "output_type": "stream",
     "text": [
      "\n",
      "Explored 6 countries, planning to explore more! #travel #adventure #explorer\n"
     ]
    }
   ],
   "source": [
    "# Pass it to OpenAI\n",
    "print(llm(our_prompt))"
   ],
   "metadata": {
    "collapsed": false,
    "ExecuteTime": {
     "end_time": "2023-10-16T12:26:26.911851Z",
     "start_time": "2023-10-16T12:26:25.952854Z"
    }
   },
   "id": "965190ad549ece7d"
  },
  {
   "cell_type": "markdown",
   "source": [
    "### Using LangChain Prompt Template"
   ],
   "metadata": {
    "collapsed": false
   },
   "id": "c66e4233ac31d888"
  },
  {
   "cell_type": "code",
   "execution_count": 8,
   "outputs": [],
   "source": [
    "# define the template as \n",
    "template = \"\"\"\n",
    "{our_text}\n",
    "\n",
    "Can you create a post for tweet in {words_count} words for the above ?\n",
    "\"\"\""
   ],
   "metadata": {
    "collapsed": false,
    "ExecuteTime": {
     "end_time": "2023-10-16T12:39:22.276585Z",
     "start_time": "2023-10-16T12:39:22.259941Z"
    }
   },
   "id": "78d5da45b60b5c00"
  },
  {
   "cell_type": "code",
   "execution_count": 9,
   "outputs": [],
   "source": [
    "prompt = PromptTemplate(\n",
    "    input_variables = [\"words_count\", \"our_text\"],\n",
    "    template = template\n",
    ")"
   ],
   "metadata": {
    "collapsed": false,
    "ExecuteTime": {
     "end_time": "2023-10-16T12:40:27.740571Z",
     "start_time": "2023-10-16T12:40:27.728524Z"
    }
   },
   "id": "ef36179884b9a25b"
  },
  {
   "cell_type": "code",
   "execution_count": 10,
   "outputs": [
    {
     "name": "stdout",
     "output_type": "stream",
     "text": [
      "\n",
      "I love trips in Asia, and I have been to 6 countries. Plan to visit more soon\n",
      "\n",
      "Can you create a post for tweet in 3 words for the above ?\n"
     ]
    }
   ],
   "source": [
    "final_prompt = prompt.format(words_count='3', our_text=\"I love trips in Asia, and I have been to 6 countries. Plan to visit more soon\")\n",
    "print(final_prompt)"
   ],
   "metadata": {
    "collapsed": false,
    "ExecuteTime": {
     "end_time": "2023-10-16T12:42:34.128096Z",
     "start_time": "2023-10-16T12:42:34.111200Z"
    }
   },
   "id": "f60ef398db321ba5"
  },
  {
   "cell_type": "code",
   "execution_count": 11,
   "outputs": [
    {
     "name": "stdout",
     "output_type": "stream",
     "text": [
      "\n",
      "Exploring Asia 🌏\n"
     ]
    }
   ],
   "source": [
    "# Pass to OpenAI\n",
    "print(llm(final_prompt))"
   ],
   "metadata": {
    "collapsed": false,
    "ExecuteTime": {
     "end_time": "2023-10-16T12:42:52.279967Z",
     "start_time": "2023-10-16T12:42:51.538656Z"
    }
   },
   "id": "462500f099d9b4f6"
  },
  {
   "cell_type": "code",
   "execution_count": null,
   "outputs": [],
   "source": [],
   "metadata": {
    "collapsed": false
   },
   "id": "88c2bca63697e893"
  }
 ],
 "metadata": {
  "kernelspec": {
   "display_name": "Python 3",
   "language": "python",
   "name": "python3"
  },
  "language_info": {
   "codemirror_mode": {
    "name": "ipython",
    "version": 2
   },
   "file_extension": ".py",
   "mimetype": "text/x-python",
   "name": "python",
   "nbconvert_exporter": "python",
   "pygments_lexer": "ipython2",
   "version": "2.7.6"
  }
 },
 "nbformat": 4,
 "nbformat_minor": 5
}
