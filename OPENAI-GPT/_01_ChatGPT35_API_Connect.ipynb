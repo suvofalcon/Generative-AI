{
 "cells": [
  {
   "cell_type": "markdown",
   "metadata": {},
   "source": [
    "# Demonstration on How to Connect ChatGPT 3.5 using API"
   ]
  },
  {
   "cell_type": "code",
   "execution_count": 1,
   "metadata": {
    "ExecuteTime": {
     "end_time": "2023-10-15T03:46:27.668278Z",
     "start_time": "2023-10-15T03:46:27.340985Z"
    }
   },
   "outputs": [],
   "source": [
    "import os\n",
    "import openai\n",
    "\n",
    "openai.api_key = os.environ[\"OPENAI_API_KEY\"]"
   ]
  },
  {
   "cell_type": "code",
   "execution_count": 2,
   "metadata": {
    "ExecuteTime": {
     "end_time": "2023-10-15T03:46:49.315429Z",
     "start_time": "2023-10-15T03:46:28.672174Z"
    }
   },
   "outputs": [],
   "source": [
    "response = openai.ChatCompletion.create(\n",
    "  model=\"gpt-3.5-turbo\",\n",
    "  messages=[\n",
    "    {\n",
    "      \"role\": \"user\",\n",
    "      \"content\": \"Give me Two reasons to use OpenAI API with Python?\"\n",
    "    }\n",
    "  ],\n",
    "  temperature=1,\n",
    "  max_tokens=300,\n",
    "  top_p=1,\n",
    "  frequency_penalty=0,\n",
    "  presence_penalty=0\n",
    ")"
   ]
  },
  {
   "cell_type": "code",
   "execution_count": 3,
   "metadata": {
    "ExecuteTime": {
     "end_time": "2023-10-15T03:46:49.324268Z",
     "start_time": "2023-10-15T03:46:49.320903Z"
    }
   },
   "outputs": [
    {
     "data": {
      "text/plain": "<OpenAIObject chat.completion id=chatcmpl-89mND7tuvxVUvCCfkZ2JK71DFdfcr at 0x112a0b4d0> JSON: {\n  \"id\": \"chatcmpl-89mND7tuvxVUvCCfkZ2JK71DFdfcr\",\n  \"object\": \"chat.completion\",\n  \"created\": 1697341591,\n  \"model\": \"gpt-3.5-turbo-0613\",\n  \"choices\": [\n    {\n      \"index\": 0,\n      \"message\": {\n        \"role\": \"assistant\",\n        \"content\": \"1) Extensive Language Support: OpenAI API provides a powerful interface for natural language processing tasks, making it a valuable tool for developers working with text generation, language translation, sentiment analysis, summarization, and more. With a wide range of language models available, including GPT-3, you can leverage the OpenAI API to integrate state-of-the-art language capabilities into your Python applications effortlessly.\\n\\n2) Easy Integration and Flexibility: OpenAI API offers Python SDKs and libraries that enable seamless integration into your Python development environment. The API is well-documented and provides straightforward methods to make API calls, making it accessible for developers of various skill levels. Additionally, Python's versatility allows you to integrate the OpenAI API with other libraries and frameworks, enabling endless possibilities for creating innovative applications that leverage advanced language processing capabilities.\"\n      },\n      \"finish_reason\": \"stop\"\n    }\n  ],\n  \"usage\": {\n    \"prompt_tokens\": 19,\n    \"completion_tokens\": 165,\n    \"total_tokens\": 184\n  }\n}"
     },
     "execution_count": 3,
     "metadata": {},
     "output_type": "execute_result"
    }
   ],
   "source": [
    "# to view the response object\n",
    "response"
   ]
  },
  {
   "cell_type": "code",
   "execution_count": 4,
   "metadata": {
    "ExecuteTime": {
     "end_time": "2023-10-15T03:46:55.285196Z",
     "start_time": "2023-10-15T03:46:55.278967Z"
    }
   },
   "outputs": [
    {
     "data": {
      "text/plain": "\"1) Extensive Language Support: OpenAI API provides a powerful interface for natural language processing tasks, making it a valuable tool for developers working with text generation, language translation, sentiment analysis, summarization, and more. With a wide range of language models available, including GPT-3, you can leverage the OpenAI API to integrate state-of-the-art language capabilities into your Python applications effortlessly.\\n\\n2) Easy Integration and Flexibility: OpenAI API offers Python SDKs and libraries that enable seamless integration into your Python development environment. The API is well-documented and provides straightforward methods to make API calls, making it accessible for developers of various skill levels. Additionally, Python's versatility allows you to integrate the OpenAI API with other libraries and frameworks, enabling endless possibilities for creating innovative applications that leverage advanced language processing capabilities.\""
     },
     "execution_count": 4,
     "metadata": {},
     "output_type": "execute_result"
    }
   ],
   "source": [
    "# to extract the exact response\n",
    "response['choices'][0]['message']['content']"
   ]
  },
  {
   "cell_type": "code",
   "execution_count": 5,
   "metadata": {
    "ExecuteTime": {
     "end_time": "2023-10-15T03:46:57.488529Z",
     "start_time": "2023-10-15T03:46:57.484226Z"
    }
   },
   "outputs": [
    {
     "name": "stdout",
     "output_type": "stream",
     "text": [
      "1) Extensive Language Support: OpenAI API provides a powerful interface for natural language processing tasks, making it a valuable tool for developers working with text generation, language translation, sentiment analysis, summarization, and more. With a wide range of language models available, including GPT-3, you can leverage the OpenAI API to integrate state-of-the-art language capabilities into your Python applications effortlessly.\n",
      "\n",
      "2) Easy Integration and Flexibility: OpenAI API offers Python SDKs and libraries that enable seamless integration into your Python development environment. The API is well-documented and provides straightforward methods to make API calls, making it accessible for developers of various skill levels. Additionally, Python's versatility allows you to integrate the OpenAI API with other libraries and frameworks, enabling endless possibilities for creating innovative applications that leverage advanced language processing capabilities.\n"
     ]
    }
   ],
   "source": [
    "print(response['choices'][0]['message']['content'])"
   ]
  },
  {
   "cell_type": "code",
   "execution_count": 6,
   "metadata": {
    "ExecuteTime": {
     "end_time": "2023-10-15T03:52:38.706025Z",
     "start_time": "2023-10-15T03:52:34.570160Z"
    }
   },
   "outputs": [
    {
     "data": {
      "text/plain": "<OpenAIObject chat.completion id=chatcmpl-89mT7BOD8XBXsVdnWmVkW9RsgwEQ1 at 0x112a0b9b0> JSON: {\n  \"id\": \"chatcmpl-89mT7BOD8XBXsVdnWmVkW9RsgwEQ1\",\n  \"object\": \"chat.completion\",\n  \"created\": 1697341957,\n  \"model\": \"gpt-3.5-turbo-0613\",\n  \"choices\": [\n    {\n      \"index\": 0,\n      \"message\": {\n        \"role\": \"assistant\",\n        \"content\": \"The first President of the United States was George Washington. He served two terms from 1789 to 1797.\"\n      },\n      \"finish_reason\": \"stop\"\n    }\n  ],\n  \"usage\": {\n    \"prompt_tokens\": 24,\n    \"completion_tokens\": 24,\n    \"total_tokens\": 48\n  }\n}"
     },
     "execution_count": 6,
     "metadata": {},
     "output_type": "execute_result"
    }
   ],
   "source": [
    "# Now lets pass with some context and more information\n",
    "response = openai.ChatCompletion.create(model='gpt-3.5-turbo',\n",
    "                                        messages=[\n",
    "                                          {'role':'system', 'content':'You are a US History Teacher'},\n",
    "                                          {'role':'user', 'content':'Who was the first US President?'}\n",
    "                                        ])\n",
    "response"
   ]
  },
  {
   "cell_type": "code",
   "execution_count": 7,
   "outputs": [
    {
     "name": "stdout",
     "output_type": "stream",
     "text": [
      "The first President of the United States was George Washington. He served two terms from 1789 to 1797.\n"
     ]
    }
   ],
   "source": [
    "print(response['choices'][0]['message']['content'])"
   ],
   "metadata": {
    "collapsed": false,
    "ExecuteTime": {
     "end_time": "2023-10-15T03:53:35.175987Z",
     "start_time": "2023-10-15T03:53:35.167955Z"
    }
   }
  }
 ],
 "metadata": {
  "kernelspec": {
   "display_name": "tensorflow",
   "language": "python",
   "name": "python3"
  },
  "language_info": {
   "codemirror_mode": {
    "name": "ipython",
    "version": 3
   },
   "file_extension": ".py",
   "mimetype": "text/x-python",
   "name": "python",
   "nbconvert_exporter": "python",
   "pygments_lexer": "ipython3",
   "version": "3.10.12"
  },
  "orig_nbformat": 4
 },
 "nbformat": 4,
 "nbformat_minor": 2
}
