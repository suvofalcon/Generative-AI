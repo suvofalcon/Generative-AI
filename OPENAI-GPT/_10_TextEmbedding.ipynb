{
 "cells": [
  {
   "cell_type": "markdown",
   "source": [
    "# Text Embedding API\n",
    "\n",
    "Text embedding allows us to directly convert text documents to vectors with a simple API call with Open AI.\n",
    "\n",
    "Keep in mind, just like other Open AI services, it is not free and it is also important to note it has its own pricing structure (its typically much cheaper than GPT on a token basis, since the processing is simpler). You can view the pricing here: https://openai.com/api/pricing/\n",
    "<br><br><br>\n",
    "### Library Imports"
   ],
   "metadata": {
    "collapsed": false
   },
   "id": "2500deb90dcd562e"
  },
  {
   "cell_type": "code",
   "execution_count": 22,
   "outputs": [],
   "source": [
    "import os\n",
    "import ast\n",
    "import tiktoken\n",
    "import numpy as np\n",
    "import pandas as pd\n",
    "import openai"
   ],
   "metadata": {
    "collapsed": false,
    "ExecuteTime": {
     "end_time": "2023-10-14T07:26:59.953451Z",
     "start_time": "2023-10-14T07:26:59.944801Z"
    }
   },
   "id": "6ea9e63746114c12"
  },
  {
   "cell_type": "code",
   "execution_count": 2,
   "id": "initial_id",
   "metadata": {
    "collapsed": true,
    "ExecuteTime": {
     "end_time": "2023-10-14T05:11:04.466768Z",
     "start_time": "2023-10-14T05:11:04.461382Z"
    }
   },
   "outputs": [],
   "source": [
    "openai.api_key = os.getenv(\"OPENAI_API_KEY\")"
   ]
  },
  {
   "cell_type": "markdown",
   "source": [
    "### What happens when GPT doesn't know anything about a topic?\n",
    "\n",
    "For example, we know GPT is limited by its training data not being up to date to the present day (depending on the model, the cut-off can be very recent though). There are also limitations based on how esoteric the topic is. \n",
    "\n",
    "Let's ask GPT about a a \"unicorn\" company"
   ],
   "metadata": {
    "collapsed": false
   },
   "id": "80a374eebb43592c"
  },
  {
   "cell_type": "code",
   "execution_count": 3,
   "outputs": [
    {
     "name": "stdout",
     "output_type": "stream",
     "text": [
      "Pentera is a start-up company that provides software solutions to help organizations manage their employee benefits programs. The company has raised $3.5 million in seed funding from investors including Y Combinator, SV Angel, and Social Leverage.\n"
     ]
    }
   ],
   "source": [
    "prompt = \"What does the start-up company Pentera do and who invested in it?\"\n",
    "\n",
    "response = openai.Completion.create(\n",
    "    prompt=prompt,\n",
    "    temperature=0,\n",
    "    max_tokens=500,\n",
    "    model=\"text-davinci-003\"\n",
    ")\n",
    "print(response[\"choices\"][0][\"text\"].strip(\" \\n\"))"
   ],
   "metadata": {
    "collapsed": false,
    "ExecuteTime": {
     "end_time": "2023-10-14T05:11:16.732359Z",
     "start_time": "2023-10-14T05:11:15.281687Z"
    }
   },
   "id": "c0a3455725ed4698"
  },
  {
   "cell_type": "markdown",
   "source": [
    "Sometimes it might feel that the model is hallucinating! A common issue with LLMs, they are eager to please and with enough context they can make stuff up that sounds right, but actually isn't. In my personal research, it looks like Y Combinator did NOT actually invest in Pentera. Also Pentera isn't an HR company, Pentera is a penetration testing company that develops and provides an automated security validation platform to reduce cybersecurity risks.\n",
    "\n",
    "We could try to alleviate this issue with some prompt engineering:"
   ],
   "metadata": {
    "collapsed": false
   },
   "id": "8535d6a385148146"
  },
  {
   "cell_type": "code",
   "execution_count": 4,
   "outputs": [
    {
     "name": "stdout",
     "output_type": "stream",
     "text": [
      "I cannot answer this question with 100% certainty.\n"
     ]
    }
   ],
   "source": [
    "prompt = \"\"\"Only answer the question below if you have 100% certainty of the facts.\n",
    "\n",
    "Q: What does the start-up company Pentera do and who invested in it? Give its financial statistics as well\n",
    "A:\"\"\"\n",
    "\n",
    "\n",
    "response = openai.Completion.create(\n",
    "    prompt=prompt,\n",
    "    temperature=0,\n",
    "    max_tokens=500,\n",
    "    model=\"text-davinci-003\"\n",
    ")\n",
    "print(response[\"choices\"][0][\"text\"].strip(\" \\n\"))"
   ],
   "metadata": {
    "collapsed": false,
    "ExecuteTime": {
     "end_time": "2023-10-14T05:11:53.392498Z",
     "start_time": "2023-10-14T05:11:52.573935Z"
    }
   },
   "id": "869af480818772a2"
  },
  {
   "cell_type": "markdown",
   "source": [
    "#### Alright, very interesting! How can we help the model? We could input some context from our own data. In fact, we have a data set about recent Unicorn companies.  \n",
    "\n",
    "### Text Data\n",
    "\n",
    "Let's grab some text data and send it to Open AI to receive the embeddings back."
   ],
   "metadata": {
    "collapsed": false
   },
   "id": "1aca3ee0ee6af2e8"
  },
  {
   "cell_type": "code",
   "execution_count": 5,
   "outputs": [
    {
     "data": {
      "text/plain": "               Updated at     Company  \\\n0  10/31/2022, 2:37:05 AM       Esusu   \n1  10/31/2022, 2:37:05 AM  Fever Labs   \n2  10/31/2022, 2:37:04 AM       Minio   \n3  10/31/2022, 2:37:04 AM   Darwinbox   \n4  10/31/2022, 2:37:04 AM     Pentera   \n\n                                  Crunchbase Url  Last Valuation (Billion $)  \\\n0       https://www.cbinsights.com/company/esusu                         1.0   \n1  https://www.cbinsights.com/company/fever-labs                         1.0   \n2       https://www.cbinsights.com/company/minio                         1.0   \n3   https://www.cbinsights.com/company/darwinbox                         1.0   \n4      https://www.cbinsights.com/company/pcysys                         1.0   \n\n  Date Joined  Year Joined         City        Country  \\\n0   1/27/2022         2022     New York  United States   \n1   1/26/2022         2022     New York  United States   \n2   1/26/2022         2022    Palo Alto  United States   \n3   1/25/2022         2022    Hyderabad          India   \n4   1/11/2022         2022  Petah Tikva         Israel   \n\n                       Industry  \\\n0                       Fintech   \n1  Internet software & services   \n2   Data management & analytics   \n3  Internet software & services   \n4                Cybersecurity    \n\n                                           Investors  Company Website  \n0  [\"Next Play Ventures\",\"Zeal Capital Partners\",...              NaN  \n1                        [\"Accel\",\"14W\",\"GS Growth\"]              NaN  \n2  [\"General Catalyst\",\"Nexus Venture Partners\",\"...              NaN  \n3  [\"Lightspeed India Partners\",\"Sequoia Capital ...              NaN  \n4   [\"AWZ Ventures\",\"Blackstone\",\"Insight Partners\"]              NaN  ",
      "text/html": "<div>\n<style scoped>\n    .dataframe tbody tr th:only-of-type {\n        vertical-align: middle;\n    }\n\n    .dataframe tbody tr th {\n        vertical-align: top;\n    }\n\n    .dataframe thead th {\n        text-align: right;\n    }\n</style>\n<table border=\"1\" class=\"dataframe\">\n  <thead>\n    <tr style=\"text-align: right;\">\n      <th></th>\n      <th>Updated at</th>\n      <th>Company</th>\n      <th>Crunchbase Url</th>\n      <th>Last Valuation (Billion $)</th>\n      <th>Date Joined</th>\n      <th>Year Joined</th>\n      <th>City</th>\n      <th>Country</th>\n      <th>Industry</th>\n      <th>Investors</th>\n      <th>Company Website</th>\n    </tr>\n  </thead>\n  <tbody>\n    <tr>\n      <th>0</th>\n      <td>10/31/2022, 2:37:05 AM</td>\n      <td>Esusu</td>\n      <td>https://www.cbinsights.com/company/esusu</td>\n      <td>1.0</td>\n      <td>1/27/2022</td>\n      <td>2022</td>\n      <td>New York</td>\n      <td>United States</td>\n      <td>Fintech</td>\n      <td>[\"Next Play Ventures\",\"Zeal Capital Partners\",...</td>\n      <td>NaN</td>\n    </tr>\n    <tr>\n      <th>1</th>\n      <td>10/31/2022, 2:37:05 AM</td>\n      <td>Fever Labs</td>\n      <td>https://www.cbinsights.com/company/fever-labs</td>\n      <td>1.0</td>\n      <td>1/26/2022</td>\n      <td>2022</td>\n      <td>New York</td>\n      <td>United States</td>\n      <td>Internet software &amp; services</td>\n      <td>[\"Accel\",\"14W\",\"GS Growth\"]</td>\n      <td>NaN</td>\n    </tr>\n    <tr>\n      <th>2</th>\n      <td>10/31/2022, 2:37:04 AM</td>\n      <td>Minio</td>\n      <td>https://www.cbinsights.com/company/minio</td>\n      <td>1.0</td>\n      <td>1/26/2022</td>\n      <td>2022</td>\n      <td>Palo Alto</td>\n      <td>United States</td>\n      <td>Data management &amp; analytics</td>\n      <td>[\"General Catalyst\",\"Nexus Venture Partners\",\"...</td>\n      <td>NaN</td>\n    </tr>\n    <tr>\n      <th>3</th>\n      <td>10/31/2022, 2:37:04 AM</td>\n      <td>Darwinbox</td>\n      <td>https://www.cbinsights.com/company/darwinbox</td>\n      <td>1.0</td>\n      <td>1/25/2022</td>\n      <td>2022</td>\n      <td>Hyderabad</td>\n      <td>India</td>\n      <td>Internet software &amp; services</td>\n      <td>[\"Lightspeed India Partners\",\"Sequoia Capital ...</td>\n      <td>NaN</td>\n    </tr>\n    <tr>\n      <th>4</th>\n      <td>10/31/2022, 2:37:04 AM</td>\n      <td>Pentera</td>\n      <td>https://www.cbinsights.com/company/pcysys</td>\n      <td>1.0</td>\n      <td>1/11/2022</td>\n      <td>2022</td>\n      <td>Petah Tikva</td>\n      <td>Israel</td>\n      <td>Cybersecurity</td>\n      <td>[\"AWZ Ventures\",\"Blackstone\",\"Insight Partners\"]</td>\n      <td>NaN</td>\n    </tr>\n  </tbody>\n</table>\n</div>"
     },
     "execution_count": 5,
     "metadata": {},
     "output_type": "execute_result"
    }
   ],
   "source": [
    "df = pd.read_csv(\"/Volumes/Data/Datasets/genai_datasets/unicorns.csv\")\n",
    "df.head()"
   ],
   "metadata": {
    "collapsed": false,
    "ExecuteTime": {
     "end_time": "2023-10-14T05:12:12.362721Z",
     "start_time": "2023-10-14T05:12:12.222197Z"
    }
   },
   "id": "b7797b38def94b1"
  },
  {
   "cell_type": "markdown",
   "source": [
    "Now we will create a function to add a summary column, which will create a summarised content for every company and that can used for contextual training"
   ],
   "metadata": {
    "collapsed": false
   },
   "id": "91ef79b461b583a3"
  },
  {
   "cell_type": "code",
   "execution_count": 6,
   "outputs": [],
   "source": [
    "def create_summary(company, crunchbase_url, city, country, industry, investor_list):\n",
    "    investors = f\"The investors in the company are \"\n",
    "    for investor in ast.literal_eval(investor_list):\n",
    "        investors += f\"{investor}, \"\n",
    "        \n",
    "    text = f\"{company} has headquarters in {city} and is in the field of {industry}, {investors}. More information can be found at {crunchbase_url}\"\n",
    "    \n",
    "    return text"
   ],
   "metadata": {
    "collapsed": false,
    "ExecuteTime": {
     "end_time": "2023-10-14T05:12:42.706601Z",
     "start_time": "2023-10-14T05:12:42.702077Z"
    }
   },
   "id": "d503d7bcdcd0a311"
  },
  {
   "cell_type": "code",
   "execution_count": 7,
   "outputs": [],
   "source": [
    "df['summary'] = df.apply(lambda df: create_summary(df['Company'], df['Crunchbase Url'], df['City'], df['Country'], df['Industry'], df['Investors']), axis=1)"
   ],
   "metadata": {
    "collapsed": false,
    "ExecuteTime": {
     "end_time": "2023-10-14T05:12:59.458040Z",
     "start_time": "2023-10-14T05:12:59.435586Z"
    }
   },
   "id": "96ee3981e3a8a367"
  },
  {
   "cell_type": "code",
   "execution_count": 8,
   "outputs": [
    {
     "data": {
      "text/plain": "               Updated at     Company  \\\n0  10/31/2022, 2:37:05 AM       Esusu   \n1  10/31/2022, 2:37:05 AM  Fever Labs   \n2  10/31/2022, 2:37:04 AM       Minio   \n3  10/31/2022, 2:37:04 AM   Darwinbox   \n4  10/31/2022, 2:37:04 AM     Pentera   \n\n                                  Crunchbase Url  Last Valuation (Billion $)  \\\n0       https://www.cbinsights.com/company/esusu                         1.0   \n1  https://www.cbinsights.com/company/fever-labs                         1.0   \n2       https://www.cbinsights.com/company/minio                         1.0   \n3   https://www.cbinsights.com/company/darwinbox                         1.0   \n4      https://www.cbinsights.com/company/pcysys                         1.0   \n\n  Date Joined  Year Joined         City        Country  \\\n0   1/27/2022         2022     New York  United States   \n1   1/26/2022         2022     New York  United States   \n2   1/26/2022         2022    Palo Alto  United States   \n3   1/25/2022         2022    Hyderabad          India   \n4   1/11/2022         2022  Petah Tikva         Israel   \n\n                       Industry  \\\n0                       Fintech   \n1  Internet software & services   \n2   Data management & analytics   \n3  Internet software & services   \n4                Cybersecurity    \n\n                                           Investors  Company Website  \\\n0  [\"Next Play Ventures\",\"Zeal Capital Partners\",...              NaN   \n1                        [\"Accel\",\"14W\",\"GS Growth\"]              NaN   \n2  [\"General Catalyst\",\"Nexus Venture Partners\",\"...              NaN   \n3  [\"Lightspeed India Partners\",\"Sequoia Capital ...              NaN   \n4   [\"AWZ Ventures\",\"Blackstone\",\"Insight Partners\"]              NaN   \n\n                                             summary  \n0  Esusu has headquarters in New York and is in t...  \n1  Fever Labs has headquarters in New York and is...  \n2  Minio has headquarters in Palo Alto and is in ...  \n3  Darwinbox has headquarters in Hyderabad and is...  \n4  Pentera has headquarters in Petah Tikva and is...  ",
      "text/html": "<div>\n<style scoped>\n    .dataframe tbody tr th:only-of-type {\n        vertical-align: middle;\n    }\n\n    .dataframe tbody tr th {\n        vertical-align: top;\n    }\n\n    .dataframe thead th {\n        text-align: right;\n    }\n</style>\n<table border=\"1\" class=\"dataframe\">\n  <thead>\n    <tr style=\"text-align: right;\">\n      <th></th>\n      <th>Updated at</th>\n      <th>Company</th>\n      <th>Crunchbase Url</th>\n      <th>Last Valuation (Billion $)</th>\n      <th>Date Joined</th>\n      <th>Year Joined</th>\n      <th>City</th>\n      <th>Country</th>\n      <th>Industry</th>\n      <th>Investors</th>\n      <th>Company Website</th>\n      <th>summary</th>\n    </tr>\n  </thead>\n  <tbody>\n    <tr>\n      <th>0</th>\n      <td>10/31/2022, 2:37:05 AM</td>\n      <td>Esusu</td>\n      <td>https://www.cbinsights.com/company/esusu</td>\n      <td>1.0</td>\n      <td>1/27/2022</td>\n      <td>2022</td>\n      <td>New York</td>\n      <td>United States</td>\n      <td>Fintech</td>\n      <td>[\"Next Play Ventures\",\"Zeal Capital Partners\",...</td>\n      <td>NaN</td>\n      <td>Esusu has headquarters in New York and is in t...</td>\n    </tr>\n    <tr>\n      <th>1</th>\n      <td>10/31/2022, 2:37:05 AM</td>\n      <td>Fever Labs</td>\n      <td>https://www.cbinsights.com/company/fever-labs</td>\n      <td>1.0</td>\n      <td>1/26/2022</td>\n      <td>2022</td>\n      <td>New York</td>\n      <td>United States</td>\n      <td>Internet software &amp; services</td>\n      <td>[\"Accel\",\"14W\",\"GS Growth\"]</td>\n      <td>NaN</td>\n      <td>Fever Labs has headquarters in New York and is...</td>\n    </tr>\n    <tr>\n      <th>2</th>\n      <td>10/31/2022, 2:37:04 AM</td>\n      <td>Minio</td>\n      <td>https://www.cbinsights.com/company/minio</td>\n      <td>1.0</td>\n      <td>1/26/2022</td>\n      <td>2022</td>\n      <td>Palo Alto</td>\n      <td>United States</td>\n      <td>Data management &amp; analytics</td>\n      <td>[\"General Catalyst\",\"Nexus Venture Partners\",\"...</td>\n      <td>NaN</td>\n      <td>Minio has headquarters in Palo Alto and is in ...</td>\n    </tr>\n    <tr>\n      <th>3</th>\n      <td>10/31/2022, 2:37:04 AM</td>\n      <td>Darwinbox</td>\n      <td>https://www.cbinsights.com/company/darwinbox</td>\n      <td>1.0</td>\n      <td>1/25/2022</td>\n      <td>2022</td>\n      <td>Hyderabad</td>\n      <td>India</td>\n      <td>Internet software &amp; services</td>\n      <td>[\"Lightspeed India Partners\",\"Sequoia Capital ...</td>\n      <td>NaN</td>\n      <td>Darwinbox has headquarters in Hyderabad and is...</td>\n    </tr>\n    <tr>\n      <th>4</th>\n      <td>10/31/2022, 2:37:04 AM</td>\n      <td>Pentera</td>\n      <td>https://www.cbinsights.com/company/pcysys</td>\n      <td>1.0</td>\n      <td>1/11/2022</td>\n      <td>2022</td>\n      <td>Petah Tikva</td>\n      <td>Israel</td>\n      <td>Cybersecurity</td>\n      <td>[\"AWZ Ventures\",\"Blackstone\",\"Insight Partners\"]</td>\n      <td>NaN</td>\n      <td>Pentera has headquarters in Petah Tikva and is...</td>\n    </tr>\n  </tbody>\n</table>\n</div>"
     },
     "execution_count": 8,
     "metadata": {},
     "output_type": "execute_result"
    }
   ],
   "source": [
    "df.head()"
   ],
   "metadata": {
    "collapsed": false,
    "ExecuteTime": {
     "end_time": "2023-10-14T05:13:00.302256Z",
     "start_time": "2023-10-14T05:13:00.291668Z"
    }
   },
   "id": "ced08cf4adbc4bf9"
  },
  {
   "cell_type": "code",
   "execution_count": 9,
   "outputs": [
    {
     "data": {
      "text/plain": "'Esusu has headquarters in New York and is in the field of Fintech, The investors in the company are Next Play Ventures, Zeal Capital Partners, SoftBank Group, . More information can be found at https://www.cbinsights.com/company/esusu'"
     },
     "execution_count": 9,
     "metadata": {},
     "output_type": "execute_result"
    }
   ],
   "source": [
    "df['summary'][0]"
   ],
   "metadata": {
    "collapsed": false,
    "ExecuteTime": {
     "end_time": "2023-10-14T05:13:01.594835Z",
     "start_time": "2023-10-14T05:13:01.589976Z"
    }
   },
   "id": "d3aaa9f87f15b03c"
  },
  {
   "cell_type": "markdown",
   "source": [
    "#### Token Count\n",
    "\n",
    "In case you are ever worried about how many tokens your text actually has (to get an estimate of your costs) OpenAI has a library called \"tiktoken\", which allows you to estimate a cost based on token counts.\n",
    "\n",
    "Splitting text strings into tokens is useful because models like GPT-3 see text in the form of tokens. Knowing how many tokens are in a text string can tell you (a) whether the string is too long for a text model to process and (b) how much an OpenAI API call costs (as usage is priced by token). Different models use different encodings.\n",
    "\n",
    "**tiktoken** supports 3 different encodings for OpenAI models:\n",
    "\n",
    "* \"gpt2\" for most gpt-3 models\n",
    "* \"p50k_base\" for code models, and Davinci models, like \"text-davinci-003\"\n",
    "* \"cl100k_base\" for text-embedding-ada-002"
   ],
   "metadata": {
    "collapsed": false
   },
   "id": "392280bd3784703d"
  },
  {
   "cell_type": "code",
   "execution_count": 10,
   "outputs": [],
   "source": [
    "def num_tokens_from_string(string, encoding_name):\n",
    "    \"\"\"Returns the number of tokens in a text string.\"\"\"\n",
    "    encoding = tiktoken.get_encoding(encoding_name)\n",
    "    num_tokens = len(encoding.encode(string))\n",
    "    return num_tokens"
   ],
   "metadata": {
    "collapsed": false,
    "ExecuteTime": {
     "end_time": "2023-10-14T05:16:52.372878Z",
     "start_time": "2023-10-14T05:16:52.369120Z"
    }
   },
   "id": "5616299414838fdb"
  },
  {
   "cell_type": "code",
   "execution_count": 11,
   "outputs": [
    {
     "data": {
      "text/plain": "53"
     },
     "execution_count": 11,
     "metadata": {},
     "output_type": "execute_result"
    }
   ],
   "source": [
    "# Now we will run an example on a text from summary column\n",
    "num_tokens_from_string(df['summary'][0], encoding_name='cl100k_base')"
   ],
   "metadata": {
    "collapsed": false,
    "ExecuteTime": {
     "end_time": "2023-10-14T05:16:57.950146Z",
     "start_time": "2023-10-14T05:16:57.648487Z"
    }
   },
   "id": "a054a67d8b8b3645"
  },
  {
   "cell_type": "markdown",
   "source": [
    "**Note how this is higher than the actual word count, this is because OpenAI tokens are not the same as words, remember things like punctuation and word length come into play, as a rough estimate, 1000 tokens is about 750 words. But with the tool above you can check your real token count before sending text over to OpenAI. Let's get a cost estimate of vectorizing our entire data set:**"
   ],
   "metadata": {
    "collapsed": false
   },
   "id": "6be2a3ff0ae26534"
  },
  {
   "cell_type": "code",
   "execution_count": 12,
   "outputs": [
    {
     "name": "stdout",
     "output_type": "stream",
     "text": [
      "Total tokens across all entries in the dataframe - 65109\n"
     ]
    }
   ],
   "source": [
    "df['token_count'] = df['summary'].apply(lambda items: num_tokens_from_string(items, 'cl100k_base'))\n",
    "\n",
    "# return the total tokens\n",
    "print(f\"Total tokens across all entries in the dataframe - {sum(df['token_count'])}\")"
   ],
   "metadata": {
    "collapsed": false,
    "ExecuteTime": {
     "end_time": "2023-10-14T05:17:21.418170Z",
     "start_time": "2023-10-14T05:17:21.326705Z"
    }
   },
   "id": "92844839ee8cf156"
  },
  {
   "cell_type": "markdown",
   "source": [
    "#### Estimating Embedding Costs\n",
    "\n",
    "Let's now do a quick monetary estimate of how much this will all cost, currently ADA-002 embedding model costs $0.0004 / 1K tokens\n",
    "\n",
    "\n",
    "Pay careful attention, that isn't 4 cents per 1000 tokens, that would be $0.04, this is 1/100 of that cost, so quite \"inexpensive\" depending on your document workload."
   ],
   "metadata": {
    "collapsed": false
   },
   "id": "a76f542f463045e7"
  },
  {
   "cell_type": "code",
   "execution_count": 13,
   "outputs": [
    {
     "data": {
      "text/plain": "0.0260436"
     },
     "execution_count": 13,
     "metadata": {},
     "output_type": "execute_result"
    }
   ],
   "source": [
    "# Lets estimate the cost\n",
    "df['token_count'].sum() * 0.0004 / 1000"
   ],
   "metadata": {
    "collapsed": false,
    "ExecuteTime": {
     "end_time": "2023-10-14T05:17:39.044168Z",
     "start_time": "2023-10-14T05:17:39.034582Z"
    }
   },
   "id": "22ef20cabbc16ee0"
  },
  {
   "cell_type": "markdown",
   "source": [
    "Another thing to keep in mind is the size limit for embeddings, currently the ADA 002 model max token limit is 8191 tokens, let's quickly check against this limit: If there are any rows which are beyond 8191 tokens"
   ],
   "metadata": {
    "collapsed": false
   },
   "id": "ccdef7c3c980284d"
  },
  {
   "cell_type": "code",
   "execution_count": 14,
   "outputs": [
    {
     "data": {
      "text/plain": "Empty DataFrame\nColumns: [Updated at, Company, Crunchbase Url, Last Valuation (Billion $), Date Joined, Year Joined, City, Country, Industry, Investors, Company Website, summary, token_count]\nIndex: []",
      "text/html": "<div>\n<style scoped>\n    .dataframe tbody tr th:only-of-type {\n        vertical-align: middle;\n    }\n\n    .dataframe tbody tr th {\n        vertical-align: top;\n    }\n\n    .dataframe thead th {\n        text-align: right;\n    }\n</style>\n<table border=\"1\" class=\"dataframe\">\n  <thead>\n    <tr style=\"text-align: right;\">\n      <th></th>\n      <th>Updated at</th>\n      <th>Company</th>\n      <th>Crunchbase Url</th>\n      <th>Last Valuation (Billion $)</th>\n      <th>Date Joined</th>\n      <th>Year Joined</th>\n      <th>City</th>\n      <th>Country</th>\n      <th>Industry</th>\n      <th>Investors</th>\n      <th>Company Website</th>\n      <th>summary</th>\n      <th>token_count</th>\n    </tr>\n  </thead>\n  <tbody>\n  </tbody>\n</table>\n</div>"
     },
     "execution_count": 14,
     "metadata": {},
     "output_type": "execute_result"
    }
   ],
   "source": [
    "df[df['token_count'] > 8191]"
   ],
   "metadata": {
    "collapsed": false,
    "ExecuteTime": {
     "end_time": "2023-10-14T05:17:47.290280Z",
     "start_time": "2023-10-14T05:17:47.284132Z"
    }
   },
   "id": "cef969c07cc5d0ee"
  },
  {
   "cell_type": "markdown",
   "source": [
    "### Text \n",
    "\n",
    "To begin, we'll create a simple function to grab the embedding, in our case, we'll specify the ADA 002 model"
   ],
   "metadata": {
    "collapsed": false
   },
   "id": "c0b4dd9f7ab1bdce"
  },
  {
   "cell_type": "code",
   "execution_count": 15,
   "outputs": [],
   "source": [
    "def get_embedding(text):\n",
    "    # Note how this function assumes you already set your Open AI key!\n",
    "    result = openai.Embedding.create(\n",
    "        model='text-embedding-ada-002',\n",
    "        input=text\n",
    "    )\n",
    "    return result[\"data\"][0][\"embedding\"]"
   ],
   "metadata": {
    "collapsed": false,
    "ExecuteTime": {
     "end_time": "2023-10-14T05:18:39.334562Z",
     "start_time": "2023-10-14T05:18:39.322850Z"
    }
   },
   "id": "8ec8884c81e0bc68"
  },
  {
   "cell_type": "code",
   "execution_count": 16,
   "outputs": [
    {
     "data": {
      "text/plain": "[0.011609838344156742,\n -0.018315808847546577,\n -0.022067401558160782,\n -0.03170095384120941,\n -0.016051456332206726,\n 0.00987472664564848,\n -0.01946808397769928,\n 0.024251364171504974,\n 0.002823743037879467,\n -0.023166082799434662,\n 0.020338989794254303,\n -0.0147517966106534,\n 0.00715482234954834,\n -0.017351113259792328,\n 0.011750523000955582,\n -0.022991901263594627,\n 0.000826522649731487,\n -0.02159845270216465,\n 0.0180344395339489,\n 0.0051349918358027935,\n -0.023487647995352745,\n -0.016815172508358955,\n -0.00987472664564848,\n 0.01932070031762123,\n -0.0200040265917778,\n -0.0021270187571644783,\n -0.013472235761582851,\n 0.0004218447720631957,\n -0.012474044226109982,\n -0.006598782725632191,\n 0.016198839992284775,\n -0.0018506738124415278,\n -0.019025932997465134,\n -0.0036176068242639303,\n -0.012942993082106113,\n 0.010370472446084023,\n -0.022402364760637283,\n 0.02070075087249279,\n 0.0202987939119339,\n -0.005513500887900591,\n 0.030897041782736778,\n 0.009546462446451187,\n -0.013572724536061287,\n 0.006240371614694595,\n -0.028565695509314537,\n 0.00931868702173233,\n -0.006578684784471989,\n -0.0010467612883076072,\n 0.0015843778382986784,\n 0.03494340181350708,\n -0.008065923117101192,\n 0.02351444400846958,\n -0.01987004093825817,\n 0.01276211254298687,\n -0.006381056271493435,\n -0.007784553803503513,\n -0.005717828404158354,\n -0.02028539590537548,\n 0.0073357028886675835,\n -0.005550346802920103,\n 0.007818050682544708,\n 0.007663967087864876,\n -0.02126348949968815,\n -0.020861532539129257,\n -0.006468147039413452,\n 0.008213307708501816,\n -0.023474248126149178,\n -0.0016220612451434135,\n 0.0023045495618134737,\n 0.003497019875794649,\n 0.02001742459833622,\n 0.01933409832417965,\n -0.002979501150548458,\n 0.009412476792931557,\n 0.007663967087864876,\n -0.0011238028528168797,\n -0.02496148645877838,\n -0.015729891136288643,\n 0.017351113259792328,\n -2.0058561858604662e-05,\n -0.005044551566243172,\n -0.00904401671141386,\n -0.035881299525499344,\n -0.005352718289941549,\n 0.012876000255346298,\n 0.022187989205121994,\n -0.0009228247217833996,\n 0.022871313616633415,\n -0.022094199433922768,\n 0.0004848598036915064,\n 0.02867288328707218,\n 0.02125008963048458,\n -0.003123535541817546,\n -0.007369199302047491,\n -0.048395540565252304,\n 0.03719435632228851,\n -0.013358348049223423,\n 0.009928320534527302,\n -0.016493607312440872,\n -0.005587192717939615,\n 0.02477390691637993,\n 0.008394187316298485,\n -0.006206875201314688,\n -0.00557379424571991,\n -0.02387620508670807,\n 0.004270785953849554,\n -0.011562943458557129,\n -0.012969790026545525,\n 0.03521137312054634,\n -0.0023916400969028473,\n -0.012534338049590588,\n 0.01595766469836235,\n -0.020124612376093864,\n 0.014256050810217857,\n 0.027976159006357193,\n -0.012333359569311142,\n 0.022857915610074997,\n 0.011884508654475212,\n -0.016118448227643967,\n -0.0103168785572052,\n 0.026917673647403717,\n 0.021437669172883034,\n 0.025738602504134178,\n -0.010564751923084259,\n 0.01698935404419899,\n 0.004016213584691286,\n -0.01753869466483593,\n -0.01974945329129696,\n -0.0014420183142647147,\n -0.02091512642800808,\n 0.024023588746786118,\n -0.0217458363622427,\n -0.003287667641416192,\n 0.018463192507624626,\n -0.007168220821768045,\n 0.010832722298800945,\n -0.016868766397237778,\n 0.018315808847546577,\n -0.0015332958428189158,\n -0.018958939239382744,\n 0.03210291266441345,\n 0.004203793127089739,\n 0.0017401358345523477,\n 0.020754344761371613,\n -0.003294366877526045,\n 0.0016480209305882454,\n 0.012293163686990738,\n 0.023715421557426453,\n 0.009653651155531406,\n -0.004307631868869066,\n 0.017766468226909637,\n -0.030495084822177887,\n -0.0019009184325113893,\n -0.0021906618494540453,\n 0.006850005593150854,\n -0.001081094960682094,\n 0.03170095384120941,\n 0.019414490088820457,\n -0.012393653392791748,\n -0.004595700651407242,\n -0.03301401063799858,\n 0.012333359569311142,\n -0.006819858681410551,\n -0.012386953458189964,\n 0.009546462446451187,\n 0.027400022372603416,\n 0.010571450926363468,\n -0.016359621658921242,\n 0.0002635744749568403,\n -0.006940445862710476,\n -0.028806868940591812,\n 0.022549748420715332,\n -0.015448520891368389,\n -0.000286393886199221,\n 0.003878878429532051,\n 0.012065388262271881,\n 0.0019260406261309981,\n 0.021920017898082733,\n -0.026180755347013474,\n -0.022790923714637756,\n 0.039927661418914795,\n 0.013813898898661137,\n 0.025149066001176834,\n 0.016078252345323563,\n 0.008166412822902203,\n -0.011502649635076523,\n 0.012949692085385323,\n 0.0020750993862748146,\n 0.0220807995647192,\n -0.01677497662603855,\n 0.021169699728488922,\n 0.010893016122281551,\n 0.0005623201141133904,\n -0.017418107017874718,\n -0.6371275782585144,\n -0.018208621069788933,\n 0.0023648429196327925,\n 0.01004220824688673,\n 0.005225432105362415,\n 0.02138407528400421,\n 0.02484090067446232,\n 0.008300397545099258,\n 0.004622497595846653,\n -0.0031084620859473944,\n -0.014148862101137638,\n -0.015796883031725883,\n -0.017163533717393875,\n -0.010531255044043064,\n -0.016520405188202858,\n -0.01213908102363348,\n -0.004321030341088772,\n -0.049494221806526184,\n 0.003125210292637348,\n -0.008441082201898098,\n -0.005788170732557774,\n 0.016949158161878586,\n 0.009385679848492146,\n -0.01622563600540161,\n 0.02840491198003292,\n 0.010430766269564629,\n 0.003389831632375717,\n -0.01980304718017578,\n -0.020740944892168045,\n 0.013070279732346535,\n -0.028163738548755646,\n 0.04421519488096237,\n 0.024197770282626152,\n 0.024184372276067734,\n 0.03815905377268791,\n 0.00856836885213852,\n -0.01603805646300316,\n 0.014925978146493435,\n -0.004187045153230429,\n 0.025229457765817642,\n -0.005356067791581154,\n -0.025216059759259224,\n 0.008380789309740067,\n -0.012909497134387493,\n 0.009499567560851574,\n 0.039445314556360245,\n 0.02910163626074791,\n -0.03815905377268791,\n 0.0036812499165534973,\n 0.007329003419727087,\n 0.003131909528747201,\n -0.030843447893857956,\n -0.009948418475687504,\n 0.008394187316298485,\n 0.027842173352837563,\n 0.0009554836433380842,\n -0.006568636279553175,\n -0.011569642461836338,\n 0.012159178033471107,\n -0.013016684912145138,\n -0.014684803783893585,\n -0.0024636571761220694,\n -0.008065923117101192,\n -0.028699681162834167,\n -0.03764990717172623,\n 0.015783485025167465,\n -0.020111214369535446,\n 0.007262010592967272,\n 0.033603549003601074,\n -0.01258793193846941,\n 0.005493402946740389,\n 0.01802104152739048,\n 0.007094528991729021,\n 0.021343879401683807,\n 0.010738932527601719,\n 0.016547201201319695,\n 0.027266036719083786,\n -0.013653116300702095,\n -0.010202990844845772,\n 0.0027902466244995594,\n -0.011254777200520039,\n -0.012199373915791512,\n 0.002090172842144966,\n -0.03151337429881096,\n -0.0012242919765412807,\n -0.009131107479333878,\n -0.014470427297055721,\n -0.013773703016340733,\n -0.006528440397232771,\n -0.012440548278391361,\n 0.01220607291907072,\n 0.006391105242073536,\n -0.015595904551446438,\n -0.003033095272257924,\n -0.00272492878139019,\n 0.02296510338783264,\n -0.0007779529551044106,\n 0.01069873757660389,\n 0.023621631786227226,\n -0.007985532283782959,\n 0.0022660286631435156,\n -0.004197093658149242,\n 0.006310713943094015,\n 0.002453608438372612,\n 0.017779868096113205,\n 0.019588671624660492,\n 0.00044885120587423444,\n -0.014215854927897453,\n 0.03108462132513523,\n -0.05638107284903526,\n -0.009251694194972515,\n -0.03006633184850216,\n -0.018731163814663887,\n -0.0024100630544126034,\n -0.009124408476054668,\n -0.04209822416305542,\n 0.0020750993862748146,\n -0.0103168785572052,\n 0.0051349918358027935,\n -0.0028907358646392822,\n -0.002713205059990287,\n -0.015997860580682755,\n 0.003624306060373783,\n -0.014791992492973804,\n 0.013083677738904953,\n 0.010491060093045235,\n -0.008856437169015408,\n -0.005928855389356613,\n -0.014845586381852627,\n -0.0013398543233051896,\n -0.013934485614299774,\n -0.04702888801693916,\n 0.0008725801599211991,\n -0.0007327328785322607,\n 0.005945603828877211,\n -0.00658873375505209,\n 0.009090911597013474,\n -0.007295507006347179,\n 0.028699681162834167,\n -0.02297850325703621,\n -0.024720313027501106,\n -0.010879617184400558,\n 0.014604412950575352,\n -0.007007438223809004,\n 0.0005145877948962152,\n -0.021893220022320747,\n 0.016533803194761276,\n -0.008796144276857376,\n -0.00829369854182005,\n -0.016118448227643967,\n -0.0019963830709457397,\n -0.00529912393540144,\n 0.004686140455305576,\n 0.018945541232824326,\n 0.016801774501800537,\n -0.010383871383965015,\n -0.01472499966621399,\n -0.019213512539863586,\n -0.016185440123081207,\n -0.012976489961147308,\n 0.008220006711781025,\n 0.02179943025112152,\n -0.033817924559116364,\n -0.01780666410923004,\n -0.019709257408976555,\n 0.010678639635443687,\n 0.0025574469473212957,\n 0.0025139017961919308,\n -0.021518060937523842,\n 0.007382597774267197,\n -0.015729891136288643,\n 0.01000871229916811,\n -0.004508609883487225,\n 0.01678837463259697,\n 0.0319153293967247,\n 0.01530113723129034,\n -0.009646951220929623,\n 0.0006665775435976684,\n -0.0037314945366233587,\n -0.0015567432856187224,\n 0.016413215547800064,\n 0.002780197886750102,\n -0.01712333969771862,\n 0.011361964978277683,\n 0.01732431724667549,\n -0.000486115925014019,\n 0.011187784373760223,\n 0.02181283012032509,\n 0.0023933148477226496,\n -0.005932205356657505,\n -0.01747170090675354,\n 0.0133047541603446,\n -0.022375568747520447,\n 0.015917470678687096,\n 0.010933212004601955,\n 0.01973605528473854,\n 0.009713944047689438,\n 0.007255311589688063,\n 0.005225432105362415,\n 0.005888659972697496,\n 0.021678844466805458,\n 0.0027902466244995594,\n 0.021089307963848114,\n -0.018958939239382744,\n -0.008387488313019276,\n -0.028592491522431374,\n -0.0034032301045954227,\n -0.01503316592425108,\n 0.015703093260526657,\n 0.0283513180911541,\n 0.02867288328707218,\n -0.01987004093825817,\n -0.004391372669488192,\n 0.0034300272818654776,\n 0.021960213780403137,\n 0.00765056861564517,\n 0.03716756030917168,\n -0.008307097479701042,\n -0.010102502070367336,\n 0.0066490271128714085,\n -0.007034235633909702,\n -0.014966173097491264,\n 0.016694584861397743,\n -0.015622702427208424,\n -0.011770620942115784,\n 0.02406378462910652,\n 0.0448315292596817,\n 0.02635493502020836,\n 0.009003821760416031,\n -0.0003443844325374812,\n -0.003162056440487504,\n 0.030923839658498764,\n -0.016748180612921715,\n 0.002461982425302267,\n -0.0005803244421258569,\n -0.022375568747520447,\n 0.03858780488371849,\n -0.03858780488371849,\n 0.011857710778713226,\n -0.014014876447618008,\n 0.023889603093266487,\n 0.009251694194972515,\n 0.03631005436182022,\n -0.011047099716961384,\n 0.036283258348703384,\n 0.007958735339343548,\n 0.02489449456334114,\n 0.03748912364244461,\n -0.03011992573738098,\n 0.0025926181115210056,\n -0.015126955695450306,\n 0.009271792136132717,\n 0.0017334365984424949,\n -0.014349840581417084,\n 0.01995043084025383,\n -0.017096541821956635,\n 0.0017116640228778124,\n 0.01637301966547966,\n 0.019307302311062813,\n 0.005057950504124165,\n 0.0011480876710265875,\n -0.00742949265986681,\n 0.011884508654475212,\n 0.02606016770005226,\n 0.007771155331283808,\n -0.019213512539863586,\n -0.01615864410996437,\n -0.027279434725642204,\n -0.016292629763484,\n -0.02792256511747837,\n -0.01413546409457922,\n -0.014591014012694359,\n -0.003322838805615902,\n 0.009801034815609455,\n 0.017525294795632362,\n -0.013947883620858192,\n 0.014939376153051853,\n -0.019977228716015816,\n 0.014832188375294209,\n -0.026569312438368797,\n 0.00011116604582639411,\n -0.041508689522743225,\n 0.013411941938102245,\n 0.018556982278823853,\n 0.023219676688313484,\n -0.01014269795268774,\n 0.013572724536061287,\n 0.0030263960361480713,\n -0.017793266102671623,\n 0.03515777736902237,\n 0.011328469030559063,\n 0.0034769221674650908,\n -0.02482750080525875,\n -0.00210692104883492,\n -0.010678639635443687,\n 0.011201182380318642,\n 0.03727474808692932,\n -0.018396200612187386,\n -0.002806994831189513,\n -0.019776251167058945,\n 0.02269713394343853,\n -0.014550818130373955,\n -0.019910236820578575,\n -0.0014403434470295906,\n 0.054371289908885956,\n 0.018248816952109337,\n 0.002751725958660245,\n 0.0025273002684116364,\n 0.0016337849665433168,\n -0.023648429661989212,\n -0.0019310651114210486,\n -0.015770085155963898,\n -0.044268786907196045,\n 0.025363443419337273,\n -0.006240371614694595,\n 0.009486168622970581,\n -0.013606221415102482,\n -0.007161521818488836,\n 0.042125020176172256,\n 0.010417367331683636,\n -0.0005836740601807833,\n -0.030843447893857956,\n -0.02977156452834606,\n 0.02021840214729309,\n 0.12026532739400864,\n 0.004957461263984442,\n -0.009064114652574062,\n 0.018878547474741936,\n -0.0025942930951714516,\n 0.004485162440687418,\n -0.020405981689691544,\n -0.057828113436698914,\n -0.011060497723519802,\n 0.007054333109408617,\n -0.028378115966916084,\n 0.005279026459902525,\n 0.005382864736020565,\n -0.013519130647182465,\n 0.0042272405698895454,\n 0.005640787072479725,\n -0.003965968731790781,\n -0.017096541821956635,\n 0.0012862602015957236,\n -0.011160986497998238,\n -0.010712135583162308,\n 0.0065820347517728806,\n 0.020405981689691544,\n 0.03186173737049103,\n 0.03365714102983475,\n 0.017096541821956635,\n 0.017458302900195122,\n 0.036283258348703384,\n 0.0021387424785643816,\n -0.009278491139411926,\n 0.008106118999421597,\n -0.0012284789700061083,\n 0.009928320534527302,\n 0.02214779332280159,\n -0.046251773834228516,\n -0.006632279139012098,\n 0.011851011775434017,\n 0.009573259390890598,\n 0.006829907651990652,\n 0.008709053508937359,\n -0.003915724344551563,\n 0.023300068452954292,\n 0.0023815911263227463,\n -0.014282847754657269,\n -0.0010233137290924788,\n -0.02819053642451763,\n -0.001807128544896841,\n 0.01657399907708168,\n 0.003224024549126625,\n -0.0015299462247639894,\n 0.02193341590464115,\n -0.04016883298754692,\n -0.0357741117477417,\n -0.01664099097251892,\n 0.0002771823783405125,\n -0.018865149468183517,\n 0.007630470674484968,\n -0.016815172508358955,\n -0.021571654826402664,\n -0.04601059854030609,\n -0.021611850708723068,\n -0.010497759096324444,\n -0.0038721791934221983,\n -0.018396200612187386,\n 0.009693846106529236,\n -0.031004229560494423,\n -0.01327795721590519,\n 0.0007712536607868969,\n -0.023420654237270355,\n -0.0202987939119339,\n 0.024197770282626152,\n -0.013499032706022263,\n -0.01650700531899929,\n 0.018128229305148125,\n 0.05509481206536293,\n -0.006873453035950661,\n -0.0018858450930565596,\n -0.00043754620128311217,\n 0.008454481139779091,\n 0.03515777736902237,\n -0.009780936874449253,\n 0.006488244980573654,\n -0.005469955503940582,\n -0.021906619891524315,\n 0.0006653214222751558,\n 0.0008298723259940743,\n 0.020553365349769592,\n -0.0030263960361480713,\n -0.0084611801430583,\n 0.008662158623337746,\n -0.0055369483307003975,\n -0.011904606595635414,\n 0.0026294642593711615,\n -0.0005099820555187762,\n 0.006598782725632191,\n -0.007637170143425465,\n 0.02016480825841427,\n -0.005841765087097883,\n -0.0025122270453721285,\n -0.013813898898661137,\n 0.001397635554894805,\n -0.026984667405486107,\n 0.01595766469836235,\n 0.005248879548162222,\n 0.02056676521897316,\n 0.034005504101514816,\n 0.004739734809845686,\n -0.007536680903285742,\n -0.0063073644414544106,\n 0.02971797063946724,\n -0.0010023785289376974,\n -0.022991901263594627,\n 0.007710861973464489,\n -0.0010065656388178468,\n -0.009633553214371204,\n 0.012098885141313076,\n 0.009064114652574062,\n 0.01946808397769928,\n 0.0049876077100634575,\n 0.011717026121914387,\n 0.012132381089031696,\n -0.03647083789110184,\n 0.026596108451485634,\n 0.015046564862132072,\n 0.017511896789073944,\n -0.015850476920604706,\n -0.0011497625382617116,\n -0.017913853749632835,\n -0.0015215721214190125,\n 0.02392979897558689,\n -0.03403230011463165,\n 0.023822611197829247,\n -0.0030113228131085634,\n 0.004532057326287031,\n -0.02800295688211918,\n -0.012748714536428452,\n 0.00400951411575079,\n -0.0024485839530825615,\n 0.012949692085385323,\n -0.011877808719873428,\n -0.0036075578536838293,\n -0.016292629763484,\n -0.003976017702370882,\n -0.018556982278823853,\n -0.012500841170549393,\n -0.02840491198003292,\n 0.0008457830990664661,\n 0.007295507006347179,\n 0.017659280449151993,\n 0.004428218584507704,\n -0.008193209767341614,\n 0.01815502718091011,\n -0.002852214965969324,\n 0.002505527576431632,\n -0.0036912988871335983,\n -0.03424667939543724,\n -0.01642661541700363,\n -0.015555709600448608,\n 0.03011992573738098,\n 0.025818994268774986,\n 0.039096951484680176,\n 0.012574533000588417,\n 0.0017786567332223058,\n -0.002018155762925744,\n 0.00970054604113102,\n -0.004166947212070227,\n -0.0147517966106534,\n 0.01787365786731243,\n 0.008173111826181412,\n 0.018476592376828194,\n 0.017042947933077812,\n 0.0013138947542756796,\n 0.022683734074234962,\n -0.03183494135737419,\n -0.02963757887482643,\n 0.021987009793519974,\n -0.012185975909233093,\n -0.014282847754657269,\n -0.03405909985303879,\n -0.04552825167775154,\n -0.021544858813285828,\n -0.008132915943861008,\n -0.007020837161689997,\n 0.0077376589179039,\n -0.04960140958428383,\n -0.0028538897167891264,\n 0.0011388761922717094,\n 0.004029612056910992,\n 0.010926512070000172,\n -0.0071883187629282475,\n 0.022254981100559235,\n -0.01642661541700363,\n 0.030575476586818695,\n 0.005784821230918169,\n 0.009131107479333878,\n 0.005205334164202213,\n -0.0031084620859473944,\n -0.020955322310328484,\n -0.007818050682544708,\n 0.029128434136509895,\n 0.01835600472986698,\n 0.005892009474337101,\n 0.015515513718128204,\n 0.009077513590455055,\n 0.0017769818659871817,\n 0.028806868940591812,\n -0.02234877087175846,\n -0.004950761795043945,\n 0.03440745919942856,\n -0.0174047090113163,\n -0.010651842691004276,\n 0.00019344147585798055,\n -0.01733771525323391,\n -0.03657802566885948,\n 0.010718834586441517,\n 0.00350706884637475,\n -0.018958939239382744,\n 0.018865149468183517,\n -0.051289625465869904,\n 0.0006933746626600623,\n -0.0026194152887910604,\n 0.00450526038184762,\n 0.020205004140734673,\n 0.00887653511017561,\n 0.02778857946395874,\n 0.03282643109560013,\n 0.017967447638511658,\n -0.05096806213259697,\n -0.016801774501800537,\n 0.0032742691691964865,\n -0.0007432004786096513,\n 0.014698202721774578,\n 0.014403434470295906,\n -0.014282847754657269,\n -0.0019829843658953905,\n 0.011294972151517868,\n 0.014791992492973804,\n -0.019213512539863586,\n 0.0015140353934839368,\n 0.0033596849534660578,\n -0.011804116889834404,\n 0.01905272901058197,\n -0.01018289290368557,\n -0.01644001342356205,\n -0.015193948522210121,\n 0.008910031989216805,\n -0.02236216887831688,\n 0.00522878160700202,\n -0.009754139930009842,\n -0.01231326162815094,\n -0.004974209237843752,\n 0.013210964389145374,\n -0.007181619293987751,\n 0.017418107017874718,\n 0.007677365560084581,\n -0.00292423227801919,\n -0.018128229305148125,\n -0.025564420968294144,\n -0.003018022049218416,\n -0.02181283012032509,\n -0.015944266691803932,\n -0.005808268673717976,\n -0.0008801168296486139,\n 0.007543380372226238,\n 0.011663432233035564,\n 0.0050278035923838615,\n -0.013103775680065155,\n 0.0036377045325934887,\n 0.002386615611612797,\n 0.02689087763428688,\n 0.0006887688650749624,\n -0.030307505279779434,\n 0.019427888095378876,\n -0.0070610325783491135,\n 0.01004220824688673,\n -0.021209895610809326,\n -0.0206337571144104,\n -0.016882164403796196,\n -0.00672271940857172,\n -0.013612920418381691,\n 0.024720313027501106,\n 0.019628867506980896,\n -0.014658006839454174,\n 0.0012393653159961104,\n 0.0005552021320909262,\n -0.019856641069054604,\n -0.01968246139585972,\n 0.0038587807212024927,\n 0.019427888095378876,\n 0.0008336406317539513,\n -0.012239569798111916,\n -0.009847929701209068,\n 0.007436191663146019,\n 0.01946808397769928,\n -0.0018858450930565596,\n 0.025095472112298012,\n 0.008065923117101192,\n -0.0022928258404135704,\n -0.00715482234954834,\n 0.015006368979811668,\n -0.014055072329938412,\n 0.017243925482034683,\n -0.0062973154708743095,\n 0.02915523201227188,\n -0.0026110413018614054,\n -0.018932143226265907,\n 0.01543512288480997,\n -0.019414490088820457,\n 0.0026746843941509724,\n 0.010752331465482712,\n 0.006283916998654604,\n 0.0017853559693321586,\n 0.011938102543354034,\n 0.0017334365984424949,\n -0.0033211640547960997,\n -0.003414953825995326,\n 0.004619148094207048,\n -0.0008436895441263914,\n -0.007416094187647104,\n 0.013854093849658966,\n -0.0029292565304785967,\n -0.026850681751966476,\n 0.0107255345210433,\n -0.009164604358375072,\n 0.016748180612921715,\n 0.005289074964821339,\n 0.01413546409457922,\n 0.005312522407621145,\n -0.016118448227643967,\n -0.03330877795815468,\n -0.006484895013272762,\n -0.007074431050568819,\n -0.022321972995996475,\n -0.011207882314920425,\n -0.002405038569122553,\n -0.02048637345433235,\n -0.005838415585458279,\n -0.0043645757250487804,\n 0.03344276547431946,\n -0.014122065156698227,\n -0.00416024774312973,\n 0.0147517966106534,\n 0.018329208716750145,\n 0.005191935691982508,\n 0.0019176665227860212,\n -0.02283111773431301,\n -0.03196892514824867,\n -0.024639921262860298,\n -0.02977156452834606,\n -0.002125344006344676,\n -0.0015123606426641345,\n 0.04649294540286064,\n 0.007630470674484968,\n -0.024050386622548103,\n -0.032638851553201675,\n 0.0023648429196327925,\n -0.057613737881183624,\n 0.01089971512556076,\n -0.004823475610464811,\n 0.03748912364244461,\n 0.031459782272577286,\n 0.003378107910975814,\n -0.0068064602091908455,\n -0.005376165732741356,\n 0.010430766269564629,\n 0.016761578619480133,\n -0.044751137495040894,\n 0.0031436332501471043,\n 0.019508279860019684,\n -0.030173521488904953,\n 0.007402695249766111,\n -0.019561873748898506,\n -0.02848530374467373,\n -0.0024100630544126034,\n 0.021571654826402664,\n 0.0035740614403039217,\n 0.011194483377039433,\n 0.024050386622548103,\n -0.00987472664564848,\n 0.007751057390123606,\n 0.007831448689103127,\n -0.0005418036016635597,\n -0.025082074105739594,\n 0.0037884381599724293,\n 0.019226910546422005,\n -0.04370604828000069,\n 0.0011112417560070753,\n 0.03204931691288948,\n -0.019896836951375008,\n -0.026649704203009605,\n 0.013318152166903019,\n -0.009680448099970818,\n -0.006893550977110863,\n 0.0033211640547960997,\n -0.0088698361068964,\n 0.00332618854008615,\n -0.03706037253141403,\n -0.004223891068249941,\n 0.012286464683711529,\n -0.015515513718128204,\n 0.009908223524689674,\n 0.020821336656808853,\n 0.006819858681410551,\n -0.014939376153051853,\n -0.02977156452834606,\n 0.0448315292596817,\n -0.02091512642800808,\n 0.0015500440495088696,\n -0.0009504592162556946,\n -0.012085486203432083,\n 0.007529981434345245,\n -0.012467345222830772,\n -0.004508609883487225,\n 0.005747975315898657,\n -0.018597178161144257,\n -0.016118448227643967,\n 0.0006535977008752525,\n -0.016828570514917374,\n 0.004562204238027334,\n 0.003277618670836091,\n -0.013746906071901321,\n -0.026368334889411926,\n 0.02358143776655197,\n 0.014189057983458042,\n -0.020044220611453056,\n -0.010993504896759987,\n 0.011067196726799011,\n -0.02284451760351658,\n -0.0030866896267980337,\n -0.011703628115355968,\n 0.0064145526848733425,\n -0.029289215803146362,\n -0.0017451603198423982,\n 0.009687147103250027,\n -0.028029752895236015,\n 0.032022520899772644,\n 0.1949756145477295,\n 0.015126955695450306,\n 0.0028120193164795637,\n 0.03116501308977604,\n -0.0032742691691964865,\n 0.006548538338392973,\n 0.02016480825841427,\n 0.00144453055690974,\n -0.017779868096113205,\n -0.0023648429196327925,\n -0.03333557769656181,\n -0.009767538867890835,\n 0.004233940038830042,\n -0.0012879350688308477,\n 0.008179810829460621,\n -0.02179943025112152,\n -0.02544383518397808,\n -0.01433644164353609,\n -0.010651842691004276,\n 0.025135667994618416,\n 0.005687681958079338,\n -0.00621022516861558,\n 0.011201182380318642,\n -0.025470631197094917,\n 0.025095472112298012,\n 0.0028287675231695175,\n 0.004367925226688385,\n -0.00030397946829907596,\n 0.03775709494948387,\n 0.02222818322479725,\n -0.009084212593734264,\n 0.020111214369535446,\n 0.01389428973197937,\n 0.01623903587460518,\n -0.001426107482984662,\n -0.02559121884405613,\n 0.011938102543354034,\n -0.01830241084098816,\n 0.02366182766854763,\n 0.007690764032304287,\n 0.0020315542351454496,\n -0.014189057983458042,\n -0.026703298091888428,\n 0.010363773442804813,\n -0.011415558867156506,\n 0.011784018948674202,\n ...]"
     },
     "execution_count": 16,
     "metadata": {},
     "output_type": "execute_result"
    }
   ],
   "source": [
    "# Now we will call the above function to get the embeddings for the summary column\n",
    "get_embedding(df['summary'][0])"
   ],
   "metadata": {
    "collapsed": false,
    "ExecuteTime": {
     "end_time": "2023-10-14T05:18:43.597847Z",
     "start_time": "2023-10-14T05:18:42.568341Z"
    }
   },
   "id": "567e7f788ed38e16"
  },
  {
   "cell_type": "code",
   "execution_count": 17,
   "outputs": [],
   "source": [
    "# Now lets build for all the rows\n",
    "df['embeddings'] = df['summary'].apply(get_embedding)"
   ],
   "metadata": {
    "collapsed": false,
    "ExecuteTime": {
     "end_time": "2023-10-14T05:26:56.828285Z",
     "start_time": "2023-10-14T05:18:50.667547Z"
    }
   },
   "id": "7af1319b30d29b53"
  },
  {
   "cell_type": "code",
   "execution_count": 18,
   "outputs": [
    {
     "data": {
      "text/plain": "               Updated at     Company  \\\n0  10/31/2022, 2:37:05 AM       Esusu   \n1  10/31/2022, 2:37:05 AM  Fever Labs   \n2  10/31/2022, 2:37:04 AM       Minio   \n3  10/31/2022, 2:37:04 AM   Darwinbox   \n4  10/31/2022, 2:37:04 AM     Pentera   \n\n                                  Crunchbase Url  Last Valuation (Billion $)  \\\n0       https://www.cbinsights.com/company/esusu                         1.0   \n1  https://www.cbinsights.com/company/fever-labs                         1.0   \n2       https://www.cbinsights.com/company/minio                         1.0   \n3   https://www.cbinsights.com/company/darwinbox                         1.0   \n4      https://www.cbinsights.com/company/pcysys                         1.0   \n\n  Date Joined  Year Joined         City        Country  \\\n0   1/27/2022         2022     New York  United States   \n1   1/26/2022         2022     New York  United States   \n2   1/26/2022         2022    Palo Alto  United States   \n3   1/25/2022         2022    Hyderabad          India   \n4   1/11/2022         2022  Petah Tikva         Israel   \n\n                       Industry  \\\n0                       Fintech   \n1  Internet software & services   \n2   Data management & analytics   \n3  Internet software & services   \n4                Cybersecurity    \n\n                                           Investors  Company Website  \\\n0  [\"Next Play Ventures\",\"Zeal Capital Partners\",...              NaN   \n1                        [\"Accel\",\"14W\",\"GS Growth\"]              NaN   \n2  [\"General Catalyst\",\"Nexus Venture Partners\",\"...              NaN   \n3  [\"Lightspeed India Partners\",\"Sequoia Capital ...              NaN   \n4   [\"AWZ Ventures\",\"Blackstone\",\"Insight Partners\"]              NaN   \n\n                                             summary  token_count  \\\n0  Esusu has headquarters in New York and is in t...           53   \n1  Fever Labs has headquarters in New York and is...           55   \n2  Minio has headquarters in Palo Alto and is in ...           52   \n3  Darwinbox has headquarters in Hyderabad and is...           58   \n4  Pentera has headquarters in Petah Tikva and is...           54   \n\n                                          embeddings  \n0  [0.011540870182216167, -0.018299279734492302, ...  \n1  [0.009516256861388683, 0.012649181298911572, -...  \n2  [0.004657353740185499, -0.04018688574433327, 0...  \n3  [-0.0016203665873035789, -0.025722471997141838...  \n4  [0.013372410088777542, -0.012894092127680779, ...  ",
      "text/html": "<div>\n<style scoped>\n    .dataframe tbody tr th:only-of-type {\n        vertical-align: middle;\n    }\n\n    .dataframe tbody tr th {\n        vertical-align: top;\n    }\n\n    .dataframe thead th {\n        text-align: right;\n    }\n</style>\n<table border=\"1\" class=\"dataframe\">\n  <thead>\n    <tr style=\"text-align: right;\">\n      <th></th>\n      <th>Updated at</th>\n      <th>Company</th>\n      <th>Crunchbase Url</th>\n      <th>Last Valuation (Billion $)</th>\n      <th>Date Joined</th>\n      <th>Year Joined</th>\n      <th>City</th>\n      <th>Country</th>\n      <th>Industry</th>\n      <th>Investors</th>\n      <th>Company Website</th>\n      <th>summary</th>\n      <th>token_count</th>\n      <th>embeddings</th>\n    </tr>\n  </thead>\n  <tbody>\n    <tr>\n      <th>0</th>\n      <td>10/31/2022, 2:37:05 AM</td>\n      <td>Esusu</td>\n      <td>https://www.cbinsights.com/company/esusu</td>\n      <td>1.0</td>\n      <td>1/27/2022</td>\n      <td>2022</td>\n      <td>New York</td>\n      <td>United States</td>\n      <td>Fintech</td>\n      <td>[\"Next Play Ventures\",\"Zeal Capital Partners\",...</td>\n      <td>NaN</td>\n      <td>Esusu has headquarters in New York and is in t...</td>\n      <td>53</td>\n      <td>[0.011540870182216167, -0.018299279734492302, ...</td>\n    </tr>\n    <tr>\n      <th>1</th>\n      <td>10/31/2022, 2:37:05 AM</td>\n      <td>Fever Labs</td>\n      <td>https://www.cbinsights.com/company/fever-labs</td>\n      <td>1.0</td>\n      <td>1/26/2022</td>\n      <td>2022</td>\n      <td>New York</td>\n      <td>United States</td>\n      <td>Internet software &amp; services</td>\n      <td>[\"Accel\",\"14W\",\"GS Growth\"]</td>\n      <td>NaN</td>\n      <td>Fever Labs has headquarters in New York and is...</td>\n      <td>55</td>\n      <td>[0.009516256861388683, 0.012649181298911572, -...</td>\n    </tr>\n    <tr>\n      <th>2</th>\n      <td>10/31/2022, 2:37:04 AM</td>\n      <td>Minio</td>\n      <td>https://www.cbinsights.com/company/minio</td>\n      <td>1.0</td>\n      <td>1/26/2022</td>\n      <td>2022</td>\n      <td>Palo Alto</td>\n      <td>United States</td>\n      <td>Data management &amp; analytics</td>\n      <td>[\"General Catalyst\",\"Nexus Venture Partners\",\"...</td>\n      <td>NaN</td>\n      <td>Minio has headquarters in Palo Alto and is in ...</td>\n      <td>52</td>\n      <td>[0.004657353740185499, -0.04018688574433327, 0...</td>\n    </tr>\n    <tr>\n      <th>3</th>\n      <td>10/31/2022, 2:37:04 AM</td>\n      <td>Darwinbox</td>\n      <td>https://www.cbinsights.com/company/darwinbox</td>\n      <td>1.0</td>\n      <td>1/25/2022</td>\n      <td>2022</td>\n      <td>Hyderabad</td>\n      <td>India</td>\n      <td>Internet software &amp; services</td>\n      <td>[\"Lightspeed India Partners\",\"Sequoia Capital ...</td>\n      <td>NaN</td>\n      <td>Darwinbox has headquarters in Hyderabad and is...</td>\n      <td>58</td>\n      <td>[-0.0016203665873035789, -0.025722471997141838...</td>\n    </tr>\n    <tr>\n      <th>4</th>\n      <td>10/31/2022, 2:37:04 AM</td>\n      <td>Pentera</td>\n      <td>https://www.cbinsights.com/company/pcysys</td>\n      <td>1.0</td>\n      <td>1/11/2022</td>\n      <td>2022</td>\n      <td>Petah Tikva</td>\n      <td>Israel</td>\n      <td>Cybersecurity</td>\n      <td>[\"AWZ Ventures\",\"Blackstone\",\"Insight Partners\"]</td>\n      <td>NaN</td>\n      <td>Pentera has headquarters in Petah Tikva and is...</td>\n      <td>54</td>\n      <td>[0.013372410088777542, -0.012894092127680779, ...</td>\n    </tr>\n  </tbody>\n</table>\n</div>"
     },
     "execution_count": 18,
     "metadata": {},
     "output_type": "execute_result"
    }
   ],
   "source": [
    "df.head()"
   ],
   "metadata": {
    "collapsed": false,
    "ExecuteTime": {
     "end_time": "2023-10-14T05:47:33.831095Z",
     "start_time": "2023-10-14T05:47:33.822042Z"
    }
   },
   "id": "89b02f3ae07d5d70"
  },
  {
   "cell_type": "code",
   "execution_count": 19,
   "outputs": [],
   "source": [
    "# Now we will convert this whole dataframe into csv\n",
    "df.to_csv('unicorns_with_embeddings.csv', index=False)"
   ],
   "metadata": {
    "collapsed": false,
    "ExecuteTime": {
     "end_time": "2023-10-14T07:20:27.147733Z",
     "start_time": "2023-10-14T07:20:25.078556Z"
    }
   },
   "id": "4c87455d3d70d279"
  },
  {
   "cell_type": "markdown",
   "source": [
    "### Find Document Similarity\n",
    "\n",
    "We can now take a new string, embed it into a vector, and perform a cosine similarity search against all the vector embeddings in our DataFrame:"
   ],
   "metadata": {
    "collapsed": false
   },
   "id": "1a98feafc3bf8b57"
  },
  {
   "cell_type": "code",
   "execution_count": 20,
   "outputs": [],
   "source": [
    "prompt = \"What dpes the company Pantera do and who invested on it ?\""
   ],
   "metadata": {
    "collapsed": false,
    "ExecuteTime": {
     "end_time": "2023-10-14T07:26:03.622036Z",
     "start_time": "2023-10-14T07:26:03.593614Z"
    }
   },
   "id": "50fc9932df2e467d"
  },
  {
   "cell_type": "code",
   "execution_count": 21,
   "outputs": [],
   "source": [
    "prompt_embedding = get_embedding(prompt)"
   ],
   "metadata": {
    "collapsed": false,
    "ExecuteTime": {
     "end_time": "2023-10-14T07:26:23.672599Z",
     "start_time": "2023-10-14T07:26:22.983272Z"
    }
   },
   "id": "a576c90819dc1aa4"
  },
  {
   "cell_type": "code",
   "execution_count": 23,
   "outputs": [],
   "source": [
    "'''\n",
    "Function to find cosine similarity\n",
    "'''\n",
    "def cos_similarity(prompt1, prompt2):\n",
    "    \"\"\"\n",
    "    Returns the similarity between two vectors.\n",
    "    \n",
    "    Because OpenAI Embeddings are normalized to length 1, the cosine similarity is the same as the dot product.\n",
    "    \"\"\"\n",
    "    return np.dot(np.array(prompt1), np.array(prompt2))"
   ],
   "metadata": {
    "collapsed": false,
    "ExecuteTime": {
     "end_time": "2023-10-14T07:28:27.467272Z",
     "start_time": "2023-10-14T07:28:27.437365Z"
    }
   },
   "id": "ec77da9b3bdbb2ca"
  },
  {
   "cell_type": "code",
   "execution_count": 26,
   "outputs": [],
   "source": [
    "# We will create a column and apply similarity function for every embeddings value\n",
    "df[\"prompt_similarity\"] = df['embeddings'].apply(lambda vector: cos_similarity(vector, prompt_embedding))"
   ],
   "metadata": {
    "collapsed": false,
    "ExecuteTime": {
     "end_time": "2023-10-14T07:32:04.764391Z",
     "start_time": "2023-10-14T07:32:04.735733Z"
    }
   },
   "id": "3d36943ef67d7c23"
  },
  {
   "cell_type": "code",
   "execution_count": 28,
   "outputs": [
    {
     "data": {
      "text/plain": "                 Updated at             Company  \\\n4    10/31/2022, 2:37:04 AM             Pentera   \n474  10/31/2022, 2:35:26 AM        Panther Labs   \n332  10/31/2022, 2:36:44 AM    Pantheon Systems   \n368  10/31/2022, 2:36:35 AM  Injective Protocol   \n372  10/31/2022, 2:36:34 AM           The Zebra   \n\n                                        Crunchbase Url  \\\n4            https://www.cbinsights.com/company/pcysys   \n474         https://www.cbinsights.com/company/panther   \n332        https://www.cbinsights.com/company/pantheon   \n368  https://www.cbinsights.com/company/injective-p...   \n372  https://www.cbinsights.com/company/insurance-z...   \n\n     Last Valuation (Billion $) Date Joined  Year Joined           City  \\\n4                           1.0   1/11/2022         2022    Petah Tikva   \n474                         1.4   12/2/2021         2021  San Francisco   \n332                         1.0   7/13/2021         2021  San Francisco   \n368                         1.0   4/20/2021         2021       New York   \n372                         1.0   4/12/2021         2021         Austin   \n\n           Country                         Industry  \\\n4           Israel                   Cybersecurity    \n474  United States                    Cybersecurity   \n332  United States     Internet software & services   \n368  United States                          Fintech   \n372  United States  E-commerce & direct-to-consumer   \n\n                                             Investors  Company Website  \\\n4     [\"AWZ Ventures\",\"Blackstone\",\"Insight Partners\"]              NaN   \n474  [\"Innovation Endeavors\",\"s28 Capital\",\"Lightsp...              NaN   \n332  [\"Foundry Group\",\"Scale Venture Partners\",\"Sof...              NaN   \n368  [\"Pantera Capital\",\"Cadenza Ventures\",\"BlockTo...              NaN   \n372  [\"Silverton Partners\",\"Accel\",\"Ballast Point V...              NaN   \n\n                                               summary  token_count  \\\n4    Pentera has headquarters in Petah Tikva and is...           54   \n474  Panther Labs has headquarters in San Francisco...           54   \n332  Pantheon Systems has headquarters in San Franc...           55   \n368  Injective Protocol has headquarters in New Yor...           56   \n372  The Zebra has headquarters in Austin and is in...           59   \n\n                                            embeddings  prompt_similarity  \n4    [0.013372410088777542, -0.012894092127680779, ...           0.809533  \n474  [0.015146072022616863, -0.009487980045378208, ...           0.804182  \n332  [0.020426444709300995, -0.015611733309924603, ...           0.801480  \n368  [-0.013752120546996593, -0.005053041502833366,...           0.794700  \n372  [0.0027228675317019224, -0.02102956548333168, ...           0.789570  ",
      "text/html": "<div>\n<style scoped>\n    .dataframe tbody tr th:only-of-type {\n        vertical-align: middle;\n    }\n\n    .dataframe tbody tr th {\n        vertical-align: top;\n    }\n\n    .dataframe thead th {\n        text-align: right;\n    }\n</style>\n<table border=\"1\" class=\"dataframe\">\n  <thead>\n    <tr style=\"text-align: right;\">\n      <th></th>\n      <th>Updated at</th>\n      <th>Company</th>\n      <th>Crunchbase Url</th>\n      <th>Last Valuation (Billion $)</th>\n      <th>Date Joined</th>\n      <th>Year Joined</th>\n      <th>City</th>\n      <th>Country</th>\n      <th>Industry</th>\n      <th>Investors</th>\n      <th>Company Website</th>\n      <th>summary</th>\n      <th>token_count</th>\n      <th>embeddings</th>\n      <th>prompt_similarity</th>\n    </tr>\n  </thead>\n  <tbody>\n    <tr>\n      <th>4</th>\n      <td>10/31/2022, 2:37:04 AM</td>\n      <td>Pentera</td>\n      <td>https://www.cbinsights.com/company/pcysys</td>\n      <td>1.0</td>\n      <td>1/11/2022</td>\n      <td>2022</td>\n      <td>Petah Tikva</td>\n      <td>Israel</td>\n      <td>Cybersecurity</td>\n      <td>[\"AWZ Ventures\",\"Blackstone\",\"Insight Partners\"]</td>\n      <td>NaN</td>\n      <td>Pentera has headquarters in Petah Tikva and is...</td>\n      <td>54</td>\n      <td>[0.013372410088777542, -0.012894092127680779, ...</td>\n      <td>0.809533</td>\n    </tr>\n    <tr>\n      <th>474</th>\n      <td>10/31/2022, 2:35:26 AM</td>\n      <td>Panther Labs</td>\n      <td>https://www.cbinsights.com/company/panther</td>\n      <td>1.4</td>\n      <td>12/2/2021</td>\n      <td>2021</td>\n      <td>San Francisco</td>\n      <td>United States</td>\n      <td>Cybersecurity</td>\n      <td>[\"Innovation Endeavors\",\"s28 Capital\",\"Lightsp...</td>\n      <td>NaN</td>\n      <td>Panther Labs has headquarters in San Francisco...</td>\n      <td>54</td>\n      <td>[0.015146072022616863, -0.009487980045378208, ...</td>\n      <td>0.804182</td>\n    </tr>\n    <tr>\n      <th>332</th>\n      <td>10/31/2022, 2:36:44 AM</td>\n      <td>Pantheon Systems</td>\n      <td>https://www.cbinsights.com/company/pantheon</td>\n      <td>1.0</td>\n      <td>7/13/2021</td>\n      <td>2021</td>\n      <td>San Francisco</td>\n      <td>United States</td>\n      <td>Internet software &amp; services</td>\n      <td>[\"Foundry Group\",\"Scale Venture Partners\",\"Sof...</td>\n      <td>NaN</td>\n      <td>Pantheon Systems has headquarters in San Franc...</td>\n      <td>55</td>\n      <td>[0.020426444709300995, -0.015611733309924603, ...</td>\n      <td>0.801480</td>\n    </tr>\n    <tr>\n      <th>368</th>\n      <td>10/31/2022, 2:36:35 AM</td>\n      <td>Injective Protocol</td>\n      <td>https://www.cbinsights.com/company/injective-p...</td>\n      <td>1.0</td>\n      <td>4/20/2021</td>\n      <td>2021</td>\n      <td>New York</td>\n      <td>United States</td>\n      <td>Fintech</td>\n      <td>[\"Pantera Capital\",\"Cadenza Ventures\",\"BlockTo...</td>\n      <td>NaN</td>\n      <td>Injective Protocol has headquarters in New Yor...</td>\n      <td>56</td>\n      <td>[-0.013752120546996593, -0.005053041502833366,...</td>\n      <td>0.794700</td>\n    </tr>\n    <tr>\n      <th>372</th>\n      <td>10/31/2022, 2:36:34 AM</td>\n      <td>The Zebra</td>\n      <td>https://www.cbinsights.com/company/insurance-z...</td>\n      <td>1.0</td>\n      <td>4/12/2021</td>\n      <td>2021</td>\n      <td>Austin</td>\n      <td>United States</td>\n      <td>E-commerce &amp; direct-to-consumer</td>\n      <td>[\"Silverton Partners\",\"Accel\",\"Ballast Point V...</td>\n      <td>NaN</td>\n      <td>The Zebra has headquarters in Austin and is in...</td>\n      <td>59</td>\n      <td>[0.0027228675317019224, -0.02102956548333168, ...</td>\n      <td>0.789570</td>\n    </tr>\n  </tbody>\n</table>\n</div>"
     },
     "execution_count": 28,
     "metadata": {},
     "output_type": "execute_result"
    }
   ],
   "source": [
    "# Lets sort the values descending with the most similar at the top\n",
    "df.sort_values(\"prompt_similarity\", ascending=False).head()"
   ],
   "metadata": {
    "collapsed": false,
    "ExecuteTime": {
     "end_time": "2023-10-14T07:33:14.142118Z",
     "start_time": "2023-10-14T07:33:14.128032Z"
    }
   },
   "id": "7ed54cdaaec3920f"
  },
  {
   "cell_type": "code",
   "execution_count": 29,
   "outputs": [
    {
     "data": {
      "text/plain": "'Pentera has headquarters in Petah Tikva and is in the field of Cybersecurity , The investors in the company are AWZ Ventures, Blackstone, Insight Partners, . More information can be found at https://www.cbinsights.com/company/pcysys'"
     },
     "execution_count": 29,
     "metadata": {},
     "output_type": "execute_result"
    }
   ],
   "source": [
    "# Extract the summary for the largest cosine similarity value\n",
    "df.nlargest(1, 'prompt_similarity').iloc[0]['summary']"
   ],
   "metadata": {
    "collapsed": false,
    "ExecuteTime": {
     "end_time": "2023-10-14T08:17:37.748301Z",
     "start_time": "2023-10-14T08:17:37.727299Z"
    }
   },
   "id": "12e1b6b1ca589d9d"
  },
  {
   "cell_type": "markdown",
   "source": [
    "### Question Answering with Embeddings\n",
    "#### Now we can easily grab the summary for the most similar embedding, then insert that as context to our GPT request!\n",
    "\n",
    "Lets try inserting the summary to help the model to see if it actually helps"
   ],
   "metadata": {
    "collapsed": false
   },
   "id": "e27fd2e0b10b2cfb"
  },
  {
   "cell_type": "code",
   "execution_count": 30,
   "outputs": [],
   "source": [
    "summary = df.nlargest(1, 'prompt_similarity').iloc[0]['summary']"
   ],
   "metadata": {
    "collapsed": false,
    "ExecuteTime": {
     "end_time": "2023-10-14T08:19:33.719953Z",
     "start_time": "2023-10-14T08:19:33.686753Z"
    }
   },
   "id": "c14f2161837f982e"
  },
  {
   "cell_type": "code",
   "execution_count": 32,
   "outputs": [
    {
     "name": "stdout",
     "output_type": "stream",
     "text": [
      " Pentera is a start up company in the field of Cybersecurity. AWZ Ventures, Blackstone, and Insight Partners have invested in the company.\n"
     ]
    }
   ],
   "source": [
    "prompt = f\"\"\"Only answer the question below if you have 100% certainty of the facts, use the context below to answer..\n",
    "        Here is some context - \n",
    "        {summary}\n",
    "        \n",
    "        Q: What does the start up company Pantera do and who invested on it?\n",
    "        A: \"\"\"\n",
    "\n",
    "response = openai.Completion.create(\n",
    "    model = \"text-davinci-003\",\n",
    "    prompt = prompt,\n",
    "    temperature = 0,\n",
    "    max_tokens = 256\n",
    ")\n",
    "\n",
    "print(response['choices'][0]['text'].strip(\"\\n\"))"
   ],
   "metadata": {
    "collapsed": false,
    "ExecuteTime": {
     "end_time": "2023-10-14T08:23:58.058176Z",
     "start_time": "2023-10-14T08:23:56.639620Z"
    }
   },
   "id": "a600d669e9cf4c5"
  },
  {
   "cell_type": "markdown",
   "source": [
    "#### Let's clean this all up by creating a function that wraps all the functions together. Note how this is pretty limited due to our data, but hopefully you can see how this is generalizable to your own data sets and prompts, each situation will be different!"
   ],
   "metadata": {
    "collapsed": false
   },
   "id": "4e4c7b3cafb60673"
  },
  {
   "cell_type": "code",
   "execution_count": 33,
   "outputs": [],
   "source": [
    "def embed_lookup():\n",
    "    # Initial Question\n",
    "    question = input(\"What Question you have about a Unicorn Company ?\")\n",
    "    # Get embedding\n",
    "    prompt_embedding = get_embedding(question)\n",
    "    # Get prompt similarity with embeddings\n",
    "    df['prompt_similarity'] = df['embeddings'].apply(lambda vector: cos_similarity(vector, prompt_embedding))\n",
    "    \n",
    "    # get most similar summary\n",
    "    summary = df.nlargest(1, 'prompt_similarity').iloc[0]['summary']\n",
    "    \n",
    "    # creating the GPT prompt\n",
    "    prompt = f\"\"\"Only answer the question if you have 100% certainity of facts, use the context below to answer.. \n",
    "    Here is some context.\n",
    "    {summary}\n",
    "    Q: {question}\n",
    "    A: \"\"\"\n",
    "    \n",
    "    # make the api call\n",
    "    response = openai.Completion.create(model='text-davinci-003',\n",
    "                                        prompt = prompt,\n",
    "                                        temperature=0,\n",
    "                                        max_tokens=256)\n",
    "    # display the response\n",
    "    print(response['choices'][0]['text'])"
   ],
   "metadata": {
    "collapsed": false,
    "ExecuteTime": {
     "end_time": "2023-10-15T03:34:49.971831Z",
     "start_time": "2023-10-15T03:34:49.933516Z"
    }
   },
   "id": "e5de1f74d3a22019"
  },
  {
   "cell_type": "code",
   "execution_count": 34,
   "outputs": [
    {
     "name": "stdout",
     "output_type": "stream",
     "text": [
      " Pantheon Systems is a company headquartered in San Francisco that specializes in Internet software & services. The investors in the company are Foundry Group, Scale Venture Partners, and SoftBank Group.\n"
     ]
    }
   ],
   "source": [
    "# Make the function call\n",
    "\n",
    "embed_lookup()"
   ],
   "metadata": {
    "collapsed": false,
    "ExecuteTime": {
     "end_time": "2023-10-15T03:35:44.588659Z",
     "start_time": "2023-10-15T03:35:30.806698Z"
    }
   },
   "id": "9d11149899e6e352"
  }
 ],
 "metadata": {
  "kernelspec": {
   "display_name": "Python 3",
   "language": "python",
   "name": "python3"
  },
  "language_info": {
   "codemirror_mode": {
    "name": "ipython",
    "version": 2
   },
   "file_extension": ".py",
   "mimetype": "text/x-python",
   "name": "python",
   "nbconvert_exporter": "python",
   "pygments_lexer": "ipython2",
   "version": "2.7.6"
  }
 },
 "nbformat": 4,
 "nbformat_minor": 5
}
