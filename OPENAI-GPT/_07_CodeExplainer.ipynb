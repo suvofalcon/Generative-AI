{
 "cells": [
  {
   "cell_type": "markdown",
   "source": [
    "# Code Explainer\n",
    "\n",
    "In this we are going to build a code explainer that will create a docstring of a given function!"
   ],
   "metadata": {
    "collapsed": false
   },
   "id": "41d0b6b1a8edda2c"
  },
  {
   "cell_type": "markdown",
   "source": [
    "## Library Imports"
   ],
   "metadata": {
    "collapsed": false
   },
   "id": "b424d7dc4e1fc626"
  },
  {
   "cell_type": "code",
   "execution_count": 1,
   "id": "initial_id",
   "metadata": {
    "collapsed": true,
    "ExecuteTime": {
     "end_time": "2023-10-09T11:28:20.388910Z",
     "start_time": "2023-10-09T11:28:19.887143Z"
    }
   },
   "outputs": [],
   "source": [
    "import os\n",
    "import inspect\n",
    "import openai"
   ]
  },
  {
   "cell_type": "code",
   "execution_count": 2,
   "outputs": [],
   "source": [
    "# Set the OpenAI Key\n",
    "openai.api_key = os.getenv('OPENAI_API_KEY')"
   ],
   "metadata": {
    "collapsed": false,
    "ExecuteTime": {
     "end_time": "2023-10-09T11:29:46.311873Z",
     "start_time": "2023-10-09T11:29:46.266566Z"
    }
   },
   "id": "f71050e1fec52c6e"
  },
  {
   "cell_type": "markdown",
   "source": [
    "We are going to set some rules \n",
    "- The language is Python\n",
    "- It has to be a function for now"
   ],
   "metadata": {
    "collapsed": false
   },
   "id": "787284432254223e"
  },
  {
   "cell_type": "markdown",
   "source": [
    "## Prompt Design"
   ],
   "metadata": {
    "collapsed": false
   },
   "id": "b34411ec7da92762"
  },
  {
   "cell_type": "code",
   "execution_count": 3,
   "outputs": [],
   "source": [
    "''' We define two functions '''\n",
    "def docstring_prompt(code):\n",
    "    prompt = f\"{code}\\n # A high quality python docstring of the above python function : \\n\\\"\\\"\\\"\"\n",
    "    return prompt"
   ],
   "metadata": {
    "collapsed": false,
    "ExecuteTime": {
     "end_time": "2023-10-09T11:34:42.565080Z",
     "start_time": "2023-10-09T11:34:42.550192Z"
    }
   },
   "id": "47095c64d8bcba93"
  },
  {
   "cell_type": "code",
   "execution_count": 6,
   "outputs": [],
   "source": [
    "'''We can use inspect to get the source of the function'''\n",
    "def hello(name):\n",
    "    print (f\"Hello {name}\")"
   ],
   "metadata": {
    "collapsed": false,
    "ExecuteTime": {
     "end_time": "2023-10-09T11:36:06.140837Z",
     "start_time": "2023-10-09T11:36:06.134435Z"
    }
   },
   "id": "a18c0fd4d1206387"
  },
  {
   "cell_type": "code",
   "execution_count": 7,
   "outputs": [
    {
     "name": "stdout",
     "output_type": "stream",
     "text": [
      "def hello(name):\n",
      "    print (f\"Hello {name}\")\n"
     ]
    }
   ],
   "source": [
    "print(inspect.getsource(hello)) "
   ],
   "metadata": {
    "collapsed": false,
    "ExecuteTime": {
     "end_time": "2023-10-09T11:36:07.009530Z",
     "start_time": "2023-10-09T11:36:07.005139Z"
    }
   },
   "id": "b091572142172090"
  },
  {
   "cell_type": "code",
   "execution_count": 10,
   "outputs": [],
   "source": [
    "'''Now we make a OpenAI call to generate the docstring of the simple hello function'''\n",
    "\n",
    "response = openai.Completion.create(model='text-davinci-003',\n",
    "                                    prompt = docstring_prompt(inspect.getsource(hello)),\n",
    "                                    temperature = 0,\n",
    "                                    max_tokens = 64,\n",
    "                                    top_p = 1.0,\n",
    "                                    frequency_penalty = 0.0,\n",
    "                                    presence_penalty = 0.0,\n",
    "                                    stop = [\"\\\"\\\"\\\"\"]\n",
    "                                    )"
   ],
   "metadata": {
    "collapsed": false,
    "ExecuteTime": {
     "end_time": "2023-10-09T11:44:47.519206Z",
     "start_time": "2023-10-09T11:44:46.280215Z"
    }
   },
   "id": "23a70830bbd35603"
  },
  {
   "cell_type": "code",
   "execution_count": 11,
   "outputs": [
    {
     "name": "stdout",
     "output_type": "stream",
     "text": [
      "\n",
      "This function prints a greeting to the given name.\n",
      "\n",
      "Parameters:\n",
      "    name (str): The name of the person to greet.\n",
      "\n",
      "Returns:\n",
      "    None\n"
     ]
    }
   ],
   "source": [
    "''' Check the docstring response '''\n",
    "print(response['choices'][0]['text'])"
   ],
   "metadata": {
    "collapsed": false,
    "ExecuteTime": {
     "end_time": "2023-10-09T11:45:19.461056Z",
     "start_time": "2023-10-09T11:45:19.444733Z"
    }
   },
   "id": "cf4a14e814a0ccb"
  },
  {
   "cell_type": "code",
   "execution_count": 12,
   "outputs": [],
   "source": [
    "'''Now we will combine the docstring and the function and output everything together'''\n",
    "def merge_docstring_function(original_function, docstring):\n",
    "    function_string = inspect.getsource(original_function)\n",
    "    split = function_string.split(\"\\n\")\n",
    "    first_part, second_part = split[0], split[1:]\n",
    "    \n",
    "    '''Note the spaces before the trim'''\n",
    "    merged_function = first_part + \"\\n\" + '    \"\"\"' + docstring + '    \"\"\"' + \"\\n\" + \"\\n\".join(second_part)\n",
    "    return merged_function"
   ],
   "metadata": {
    "collapsed": false,
    "ExecuteTime": {
     "end_time": "2023-10-09T12:24:26.395505Z",
     "start_time": "2023-10-09T12:24:26.377247Z"
    }
   },
   "id": "1c2674740923ae61"
  },
  {
   "cell_type": "code",
   "execution_count": 13,
   "outputs": [],
   "source": [
    "final_code = merge_docstring_function(hello, response['choices'][0]['text'])"
   ],
   "metadata": {
    "collapsed": false,
    "ExecuteTime": {
     "end_time": "2023-10-09T12:25:33.905514Z",
     "start_time": "2023-10-09T12:25:33.887820Z"
    }
   },
   "id": "583e8b846be9a4fe"
  },
  {
   "cell_type": "code",
   "execution_count": 14,
   "outputs": [
    {
     "name": "stdout",
     "output_type": "stream",
     "text": [
      "def hello(name):\n",
      "    \"\"\"\n",
      "This function prints a greeting to the given name.\n",
      "\n",
      "Parameters:\n",
      "    name (str): The name of the person to greet.\n",
      "\n",
      "Returns:\n",
      "    None\n",
      "    \"\"\"\n",
      "    print (f\"Hello {name}\")\n"
     ]
    }
   ],
   "source": [
    "print(final_code)"
   ],
   "metadata": {
    "collapsed": false,
    "ExecuteTime": {
     "end_time": "2023-10-09T12:25:38.302807Z",
     "start_time": "2023-10-09T12:25:38.277279Z"
    }
   },
   "id": "fc5cb69cfa531e1"
  },
  {
   "cell_type": "markdown",
   "source": [
    "## Get the Docstring of a more complicated function"
   ],
   "metadata": {
    "collapsed": false
   },
   "id": "87279ba37d6e6846"
  },
  {
   "cell_type": "code",
   "execution_count": 15,
   "outputs": [],
   "source": [
    "def test_function(test, num_questions):\n",
    "    student_view = {1 : \"\"}\n",
    "    question_number = 1\n",
    "    for line in test.split(\"\\n\"):\n",
    "        if not line.startswith(\"Correct Answer:\"):\n",
    "            student_view[question_number] += line+\"\\n\"\n",
    "        else:\n",
    "\n",
    "            if question_number < num_questions:\n",
    "                question_number+=1\n",
    "                student_view[question_number] = \"\"\n",
    "    return student_view"
   ],
   "metadata": {
    "collapsed": false,
    "ExecuteTime": {
     "end_time": "2023-10-09T12:28:04.169591Z",
     "start_time": "2023-10-09T12:28:04.151444Z"
    }
   },
   "id": "8863dcfab1e4ed3a"
  },
  {
   "cell_type": "code",
   "execution_count": 16,
   "outputs": [],
   "source": [
    "response = openai.Completion.create(model = 'text-davinci-003',\n",
    "                                    prompt = docstring_prompt(inspect.getsource(test_function)),\n",
    "                                    temperature = 0,\n",
    "                                    max_tokens = 256,\n",
    "                                    top_p = 1.0,\n",
    "                                    frequency_penalty=0.0,\n",
    "                                    presence_penalty=0.0,\n",
    "                                    stop = [\"\\\"\\\"\\\"\"]  # Corresponds to \"\"\", the end of the docstring\n",
    "                                    )"
   ],
   "metadata": {
    "collapsed": false,
    "ExecuteTime": {
     "end_time": "2023-10-09T12:32:39.501698Z",
     "start_time": "2023-10-09T12:32:37.186064Z"
    }
   },
   "id": "6c2b27ac890999d7"
  },
  {
   "cell_type": "code",
   "execution_count": 17,
   "outputs": [
    {
     "name": "stdout",
     "output_type": "stream",
     "text": [
      "def test_function(test, num_questions):\n",
      "    \"\"\"\n",
      "This function takes a test string and the number of questions as input and returns a dictionary with the questions as keys and the corresponding question text as values.\n",
      "\n",
      "Parameters:\n",
      "test (str): The test string containing the questions and answers.\n",
      "num_questions (int): The number of questions in the test.\n",
      "\n",
      "Returns:\n",
      "student_view (dict): A dictionary with the questions as keys and the corresponding question text as values.\n",
      "\n",
      "    \"\"\"\n",
      "    student_view = {1 : \"\"}\n",
      "    question_number = 1\n",
      "    for line in test.split(\"\\n\"):\n",
      "        if not line.startswith(\"Correct Answer:\"):\n",
      "            student_view[question_number] += line+\"\\n\"\n",
      "        else:\n",
      "\n",
      "            if question_number < num_questions:\n",
      "                question_number+=1\n",
      "                student_view[question_number] = \"\"\n",
      "    return student_view\n",
      "\n"
     ]
    }
   ],
   "source": [
    "final_code = merge_docstring_function(test_function, response['choices'][0]['text'])\n",
    "print(final_code)"
   ],
   "metadata": {
    "collapsed": false,
    "ExecuteTime": {
     "end_time": "2023-10-09T12:33:22.170534Z",
     "start_time": "2023-10-09T12:33:22.150395Z"
    }
   },
   "id": "8f1f259e47f4e643"
  },
  {
   "cell_type": "code",
   "execution_count": null,
   "outputs": [],
   "source": [],
   "metadata": {
    "collapsed": false
   },
   "id": "7dbddf7b71c45caa"
  }
 ],
 "metadata": {
  "kernelspec": {
   "display_name": "Python 3",
   "language": "python",
   "name": "python3"
  },
  "language_info": {
   "codemirror_mode": {
    "name": "ipython",
    "version": 2
   },
   "file_extension": ".py",
   "mimetype": "text/x-python",
   "name": "python",
   "nbconvert_exporter": "python",
   "pygments_lexer": "ipython2",
   "version": "2.7.6"
  }
 },
 "nbformat": 4,
 "nbformat_minor": 5
}
