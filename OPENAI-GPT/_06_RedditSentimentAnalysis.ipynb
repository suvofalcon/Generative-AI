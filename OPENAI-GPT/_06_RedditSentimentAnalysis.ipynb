{
 "cells": [
  {
   "cell_type": "markdown",
   "source": [
    "# Perform Sentiment Analysis on Reddit Posts\n",
    "\n",
    "Reddit API:\n",
    "\n",
    "Go to https://www.reddit.com/prefs/apps\n",
    "Click \"create application\"\n",
    "Name: My Sentiment Example\n",
    "Choose script\n",
    "Leave description and about url blank\n",
    "Add http://www.example.com/unused/redirect/uri to redirect uri"
   ],
   "metadata": {
    "collapsed": false
   },
   "id": "3bfb5bbf3588e758"
  },
  {
   "cell_type": "markdown",
   "source": [
    "### Library Imports"
   ],
   "metadata": {
    "collapsed": false
   },
   "id": "a552c597754344d5"
  },
  {
   "cell_type": "code",
   "execution_count": 63,
   "id": "initial_id",
   "metadata": {
    "collapsed": true,
    "ExecuteTime": {
     "end_time": "2023-10-06T14:27:45.753548Z",
     "start_time": "2023-10-06T14:27:45.727095Z"
    }
   },
   "outputs": [],
   "source": [
    "import os\n",
    "import praw\n",
    "import openai"
   ]
  },
  {
   "cell_type": "code",
   "execution_count": 64,
   "outputs": [],
   "source": [
    "reddit_client_id = os.environ[\"REDDIT_CLIENT_ID\"]\n",
    "reddit_secret_key = os.environ[\"REDDIT_SECRET_KEY\"]\n",
    "\n",
    "openai.api_key = os.environ[\"OPENAI_API_KEY\"]"
   ],
   "metadata": {
    "collapsed": false,
    "ExecuteTime": {
     "end_time": "2023-10-06T14:27:45.754605Z",
     "start_time": "2023-10-06T14:27:45.730868Z"
    }
   },
   "id": "d590513025f5f88f"
  },
  {
   "cell_type": "code",
   "execution_count": 65,
   "outputs": [],
   "source": [
    "'''\n",
    "Initialize the Reddit API\n",
    "'''\n",
    "reddit = praw.Reddit(client_id=reddit_client_id,\n",
    "                     client_secret=reddit_secret_key,\n",
    "                     user_agent=\"Sentiment Analysis test by suvofalcon\")"
   ],
   "metadata": {
    "collapsed": false,
    "ExecuteTime": {
     "end_time": "2023-10-06T14:27:45.756069Z",
     "start_time": "2023-10-06T14:27:45.735425Z"
    }
   },
   "id": "fc95acef18094ac9"
  },
  {
   "cell_type": "code",
   "execution_count": 66,
   "outputs": [
    {
     "name": "stdout",
     "output_type": "stream",
     "text": [
      "Display name for the subreddit - cricket\n",
      "Title Name of the Subreddit - Cricket\n",
      "Number of accounts active on this subreddit - 4214\n"
     ]
    }
   ],
   "source": [
    "# We will access hot subreddits\n",
    "subreddit_cricket = reddit.subreddit(\"cricket\")\n",
    "print(f\"Display name for the subreddit - {subreddit_cricket.display_name}\")\n",
    "print(f\"Title Name of the Subreddit - {subreddit_cricket.title}\")\n",
    "print(f\"Number of accounts active on this subreddit - {subreddit_cricket.accounts_active}\")"
   ],
   "metadata": {
    "collapsed": false,
    "ExecuteTime": {
     "end_time": "2023-10-06T14:27:46.781807Z",
     "start_time": "2023-10-06T14:27:45.739740Z"
    }
   },
   "id": "5f268963e5d7d71a"
  },
  {
   "cell_type": "code",
   "execution_count": 67,
   "outputs": [],
   "source": [
    "# Function to create a list of comments for a given topic\n",
    "def create_list_of_comments(topic, num_of_hot_topics, num_of_comments):\n",
    "    list_comments = []\n",
    "    for post in reddit.subreddit(topic).hot(limit=num_of_hot_topics):\n",
    "        print (f\"Title - {post.title}\")\n",
    "        print(\"\\n\")\n",
    "        submission = reddit.submission(post.id)\n",
    "        counter = 0\n",
    "        for comment in submission.comments:\n",
    "            comment = comment.body\n",
    "            if not comment == \"[deleted]\":\n",
    "                list_comments.append(comment)\n",
    "                counter += 1\n",
    "            if counter == num_of_comments:\n",
    "                break\n",
    "    return list_comments"
   ],
   "metadata": {
    "collapsed": false,
    "ExecuteTime": {
     "end_time": "2023-10-06T14:27:46.788453Z",
     "start_time": "2023-10-06T14:27:46.783056Z"
    }
   },
   "id": "343201483ecb0063"
  },
  {
   "cell_type": "code",
   "execution_count": 68,
   "outputs": [
    {
     "name": "stdout",
     "output_type": "stream",
     "text": [
      "Title - Daily General Discussion and Match Links Thread - October 06, 2023\n",
      "\n",
      "Title - ICC Cricket World Cup Hub- Group Stage Thread\n",
      "\n",
      "Title - Distance each team will travel in the 2023 World Cup\n",
      "\n",
      "['Belated thoughts from last night’s game:\\n\\nI’m feeling unbelievably smug that the entire world is now beating the ‘Ravindra needs to bat up the order’ drum. He’s serviceable as a lower order slogger and part-time bowler, but we have other guys who can do that better. As we saw yesterday, Ravindra’s talents lie elsewhere \\n\\nI can’t really believe we got away with three frontline bowlers against an extra-stacked England batting lineup. A lot of stuff had to go right for that to work. None of the frontliners could afford to have anything other than a really good performance, and all 3 nailed it. Boult/Henry/Santner are top bowlers, but we can’t realistically expect them all to turn in <5RPO plus wickets every single match, so I don’t think this strategy is going to be very sustainable\\n\\nGP’s performance has gone largely unnoticed but he was pretty close to bowling MVP for me. Took two huge wickets at huge times: Moeen when they still had a lot of left-arm spin to get through, and getting Root at that stage broke the England innings. \\n\\nWe shouldn’t get too carried away: remember that NZ turned in arguably the best performance of last year’s T20 World Cup in the first match against the pre-tournament favourites before going on to be bang average for the rest of the competition. But I’m allowing myself to buy into the hype a little bit for now: that was a seriously dominant performance from a very makeshift side against a near-full-strength England.', '2 AM thoughts be like does the A in Rachin come from Rahul or Sachin', '2010 WC Spain beat Netherlands in a close final. They again met each other for  their first match in the next wc and that time Netherlands handed a proper thrashing.\\n\\nSame scenes as yesterday.', 'Please let me know any ways to improve it', 'Love this. Glad the thread got pinned. Hope it stays that way all through the group stage.', 'Quite a high effort and detailed post OP, well done.', 'Hope India goes the distance in the WC matches as well :D', 'AFG team, esp Rashid Khan, are very popular in India.', 'And we all know why pakistan is travelling the least']\n",
      "\n",
      "\n",
      "Number of elements in the list - 9\n"
     ]
    }
   ],
   "source": [
    "# We will create a list of comments by making the function call \n",
    "list_comments = create_list_of_comments('cricket', 3, 3)\n",
    "# We will check the list\n",
    "print(list_comments)\n",
    "print(\"\\n\")\n",
    "print(f\"Number of elements in the list - {len(list_comments)}\")"
   ],
   "metadata": {
    "collapsed": false,
    "ExecuteTime": {
     "end_time": "2023-10-06T14:27:50.911524Z",
     "start_time": "2023-10-06T14:27:46.788213Z"
    }
   },
   "id": "a80ee04de5248f8a"
  },
  {
   "cell_type": "code",
   "execution_count": 69,
   "outputs": [],
   "source": [
    "# Create a function to arrange the comments in bullets\n",
    "def arrange_comments(list_of_comments):\n",
    "    str_comments = ''\n",
    "    counter = 1\n",
    "    for index in list_of_comments:\n",
    "        str_comments = str_comments + f\"{counter}. {index} \\n\"\n",
    "        counter +=1\n",
    "    return str_comments"
   ],
   "metadata": {
    "collapsed": false,
    "ExecuteTime": {
     "end_time": "2023-10-06T14:27:50.911762Z",
     "start_time": "2023-10-06T14:27:50.906086Z"
    }
   },
   "id": "9d1b707cef24afe8"
  },
  {
   "cell_type": "code",
   "execution_count": 70,
   "outputs": [
    {
     "name": "stdout",
     "output_type": "stream",
     "text": [
      "1. Belated thoughts from last night’s game:\n",
      "\n",
      "I’m feeling unbelievably smug that the entire world is now beating the ‘Ravindra needs to bat up the order’ drum. He’s serviceable as a lower order slogger and part-time bowler, but we have other guys who can do that better. As we saw yesterday, Ravindra’s talents lie elsewhere \n",
      "\n",
      "I can’t really believe we got away with three frontline bowlers against an extra-stacked England batting lineup. A lot of stuff had to go right for that to work. None of the frontliners could afford to have anything other than a really good performance, and all 3 nailed it. Boult/Henry/Santner are top bowlers, but we can’t realistically expect them all to turn in <5RPO plus wickets every single match, so I don’t think this strategy is going to be very sustainable\n",
      "\n",
      "GP’s performance has gone largely unnoticed but he was pretty close to bowling MVP for me. Took two huge wickets at huge times: Moeen when they still had a lot of left-arm spin to get through, and getting Root at that stage broke the England innings. \n",
      "\n",
      "We shouldn’t get too carried away: remember that NZ turned in arguably the best performance of last year’s T20 World Cup in the first match against the pre-tournament favourites before going on to be bang average for the rest of the competition. But I’m allowing myself to buy into the hype a little bit for now: that was a seriously dominant performance from a very makeshift side against a near-full-strength England. \n",
      "2. 2 AM thoughts be like does the A in Rachin come from Rahul or Sachin \n",
      "3. 2010 WC Spain beat Netherlands in a close final. They again met each other for  their first match in the next wc and that time Netherlands handed a proper thrashing.\n",
      "\n",
      "Same scenes as yesterday. \n",
      "4. Please let me know any ways to improve it \n",
      "5. Love this. Glad the thread got pinned. Hope it stays that way all through the group stage. \n",
      "6. Quite a high effort and detailed post OP, well done. \n",
      "7. Hope India goes the distance in the WC matches as well :D \n",
      "8. AFG team, esp Rashid Khan, are very popular in India. \n",
      "9. And we all know why pakistan is travelling the least \n"
     ]
    }
   ],
   "source": [
    "arranged_comments = arrange_comments(list_comments)\n",
    "print(arranged_comments)"
   ],
   "metadata": {
    "collapsed": false,
    "ExecuteTime": {
     "end_time": "2023-10-06T14:27:50.921215Z",
     "start_time": "2023-10-06T14:27:50.910847Z"
    }
   },
   "id": "443507a78bf12e9c"
  },
  {
   "cell_type": "markdown",
   "source": [
    "### Prompt Generation\n",
    "\n",
    "First we will create a function which generates a prompt"
   ],
   "metadata": {
    "collapsed": false
   },
   "id": "4fdc25e2977a7519"
  },
  {
   "cell_type": "code",
   "execution_count": 71,
   "outputs": [],
   "source": [
    "def create_prompt(arranged_comments):\n",
    "    prompt = (f\"Give the Sentiment of each of the comments below as either 'Positive', 'Negative' or 'Neutral' \\n\"\n",
    "              f\"{arranged_comments}\")\n",
    "    return prompt"
   ],
   "metadata": {
    "collapsed": false,
    "ExecuteTime": {
     "end_time": "2023-10-06T14:27:50.921448Z",
     "start_time": "2023-10-06T14:27:50.915598Z"
    }
   },
   "id": "c3759a1a495ca5c6"
  },
  {
   "cell_type": "code",
   "execution_count": 72,
   "outputs": [
    {
     "name": "stdout",
     "output_type": "stream",
     "text": [
      "Give the Sentiment of each of the comments below as either 'Positive', 'Negative' or 'Neutral' \n",
      "1. Belated thoughts from last night’s game:\n",
      "\n",
      "I’m feeling unbelievably smug that the entire world is now beating the ‘Ravindra needs to bat up the order’ drum. He’s serviceable as a lower order slogger and part-time bowler, but we have other guys who can do that better. As we saw yesterday, Ravindra’s talents lie elsewhere \n",
      "\n",
      "I can’t really believe we got away with three frontline bowlers against an extra-stacked England batting lineup. A lot of stuff had to go right for that to work. None of the frontliners could afford to have anything other than a really good performance, and all 3 nailed it. Boult/Henry/Santner are top bowlers, but we can’t realistically expect them all to turn in <5RPO plus wickets every single match, so I don’t think this strategy is going to be very sustainable\n",
      "\n",
      "GP’s performance has gone largely unnoticed but he was pretty close to bowling MVP for me. Took two huge wickets at huge times: Moeen when they still had a lot of left-arm spin to get through, and getting Root at that stage broke the England innings. \n",
      "\n",
      "We shouldn’t get too carried away: remember that NZ turned in arguably the best performance of last year’s T20 World Cup in the first match against the pre-tournament favourites before going on to be bang average for the rest of the competition. But I’m allowing myself to buy into the hype a little bit for now: that was a seriously dominant performance from a very makeshift side against a near-full-strength England. \n",
      "2. 2 AM thoughts be like does the A in Rachin come from Rahul or Sachin \n",
      "3. 2010 WC Spain beat Netherlands in a close final. They again met each other for  their first match in the next wc and that time Netherlands handed a proper thrashing.\n",
      "\n",
      "Same scenes as yesterday. \n",
      "4. Please let me know any ways to improve it \n",
      "5. Love this. Glad the thread got pinned. Hope it stays that way all through the group stage. \n",
      "6. Quite a high effort and detailed post OP, well done. \n",
      "7. Hope India goes the distance in the WC matches as well :D \n",
      "8. AFG team, esp Rashid Khan, are very popular in India. \n",
      "9. And we all know why pakistan is travelling the least \n"
     ]
    }
   ],
   "source": [
    "print(create_prompt((arranged_comments)))"
   ],
   "metadata": {
    "collapsed": false,
    "ExecuteTime": {
     "end_time": "2023-10-06T14:27:50.930526Z",
     "start_time": "2023-10-06T14:27:50.920113Z"
    }
   },
   "id": "eb8ae580031cac9f"
  },
  {
   "cell_type": "code",
   "execution_count": 73,
   "outputs": [
    {
     "data": {
      "text/plain": "<OpenAIObject text_completion id=cmpl-86g5v75iKaDJWmECvVq8y9CO3RL0H at 0x10f674fb0> JSON: {\n  \"warning\": \"This model version is deprecated. Migrate before January 4, 2024 to avoid disruption of service. Learn more https://platform.openai.com/docs/deprecations\",\n  \"id\": \"cmpl-86g5v75iKaDJWmECvVq8y9CO3RL0H\",\n  \"object\": \"text_completion\",\n  \"created\": 1696602471,\n  \"model\": \"text-davinci-003\",\n  \"choices\": [\n    {\n      \"text\": \"\\n1. Neutral\\n2. Neutral\\n3. Neutral\\n4. Neutral\\n5. Positive\\n6. Positive\\n7. Positive\\n8. Positive\\n9. Negative\",\n      \"index\": 0,\n      \"logprobs\": null,\n      \"finish_reason\": \"stop\"\n    }\n  ],\n  \"usage\": {\n    \"prompt_tokens\": 563,\n    \"completion_tokens\": 36,\n    \"total_tokens\": 599\n  }\n}"
     },
     "execution_count": 73,
     "metadata": {},
     "output_type": "execute_result"
    }
   ],
   "source": [
    "# Pass to Open AI\n",
    "response = openai.Completion.create(engine=\"text-davinci-003\",\n",
    "                                    prompt = create_prompt(arranged_comments),\n",
    "                                    max_tokens=256,\n",
    "                                    temperature=0,\n",
    "                                    top_p=1.0)\n",
    "response"
   ],
   "metadata": {
    "collapsed": false,
    "ExecuteTime": {
     "end_time": "2023-10-06T14:27:52.529294Z",
     "start_time": "2023-10-06T14:27:50.926412Z"
    }
   },
   "id": "20ffe8177e495a44"
  },
  {
   "cell_type": "code",
   "execution_count": 74,
   "outputs": [
    {
     "data": {
      "text/plain": "'\\n1. Neutral\\n2. Neutral\\n3. Neutral\\n4. Neutral\\n5. Positive\\n6. Positive\\n7. Positive\\n8. Positive\\n9. Negative'"
     },
     "execution_count": 74,
     "metadata": {},
     "output_type": "execute_result"
    }
   ],
   "source": [
    "# Check the response text\n",
    "response['choices'][0]['text']"
   ],
   "metadata": {
    "collapsed": false,
    "ExecuteTime": {
     "end_time": "2023-10-06T14:27:52.535225Z",
     "start_time": "2023-10-06T14:27:52.527440Z"
    }
   },
   "id": "f80a07bbcb717c21"
  },
  {
   "cell_type": "code",
   "execution_count": 74,
   "outputs": [],
   "source": [],
   "metadata": {
    "collapsed": false,
    "ExecuteTime": {
     "end_time": "2023-10-06T14:27:52.535488Z",
     "start_time": "2023-10-06T14:27:52.531186Z"
    }
   },
   "id": "f36884859b394a33"
  }
 ],
 "metadata": {
  "kernelspec": {
   "display_name": "Python 3",
   "language": "python",
   "name": "python3"
  },
  "language_info": {
   "codemirror_mode": {
    "name": "ipython",
    "version": 2
   },
   "file_extension": ".py",
   "mimetype": "text/x-python",
   "name": "python",
   "nbconvert_exporter": "python",
   "pygments_lexer": "ipython2",
   "version": "2.7.6"
  }
 },
 "nbformat": 4,
 "nbformat_minor": 5
}
