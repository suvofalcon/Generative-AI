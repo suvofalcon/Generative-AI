{
 "cells": [
  {
   "cell_type": "markdown",
   "metadata": {},
   "source": [
    "# Automatic Test Generation\n",
    "\n",
    "In this project, we will build an automatic test generation and grading platform! All we have to do is to provide a topic, the number of questions and the number of options for each question! Based on this information, a suitable test is generated, \n",
    "presented to the user and graded automatically!"
   ]
  },
  {
   "cell_type": "markdown",
   "metadata": {},
   "source": [
    "## Library Imports"
   ]
  },
  {
   "cell_type": "code",
   "execution_count": 1,
   "metadata": {},
   "outputs": [],
   "source": [
    "import os\n",
    "import openai"
   ]
  },
  {
   "cell_type": "markdown",
   "metadata": {},
   "source": [
    "## Get the OpenAI API Key"
   ]
  },
  {
   "cell_type": "code",
   "execution_count": null,
   "metadata": {},
   "outputs": [],
   "source": [
    "openai.api_key = os.getenv(\"OPENAI_API_KEY\")"
   ]
  },
  {
   "cell_type": "markdown",
   "metadata": {},
   "source": [
    "## Telling GPT how to generate the test\n",
    "\n",
    "We tell GPT to create a multiple choiz quiz. Hence we define the topic, the number of possible answers as well as the number of questions. To enable automatical grading later, GPT needs to incorporate the correct answer!"
   ]
  },
  {
   "cell_type": "code",
   "execution_count": 2,
   "metadata": {},
   "outputs": [],
   "source": [
    "# We will define a function now\n",
    "def create_test_prompt(topic, num_questions, num_possible_answers):\n",
    "    prompt = f\"Create a multiple choice quiz on the topic of {topic} consisting of {num_questions} questions. \" \\\n",
    "    + f\"Each question should have {num_possible_answers} options. \"\\\n",
    "    + f\"Also include the correct answer for each question using the starting string 'Correct Answer : '.\"\n",
    "    return prompt   "
   ]
  },
  {
   "cell_type": "code",
   "execution_count": 3,
   "metadata": {},
   "outputs": [
    {
     "name": "stdout",
     "output_type": "stream",
     "text": [
      "Create a multiple choice quiz on the topic of Python consisting of 4 questions. Each question should have 4 options. Also include the correct answer for each question using the starting string 'Correct Answer : '.\n"
     ]
    }
   ],
   "source": [
    "# Now we will test the prompt creation\n",
    "print(create_test_prompt(\"Python\", 4, 4))"
   ]
  },
  {
   "cell_type": "markdown",
   "metadata": {},
   "source": [
    "## Make the OpenAI API Call"
   ]
  },
  {
   "cell_type": "code",
   "execution_count": 4,
   "metadata": {},
   "outputs": [
    {
     "data": {
      "text/plain": [
       "<OpenAIObject text_completion id=cmpl-856pvZHXVH99Qg715Xq0MIqlnrE9Y at 0x7f8092236c00> JSON: {\n",
       "  \"warning\": \"This model version is deprecated. Migrate before January 4, 2024 to avoid disruption of service. Learn more https://platform.openai.com/docs/deprecations\",\n",
       "  \"id\": \"cmpl-856pvZHXVH99Qg715Xq0MIqlnrE9Y\",\n",
       "  \"object\": \"text_completion\",\n",
       "  \"created\": 1696228611,\n",
       "  \"model\": \"text-davinci-003\",\n",
       "  \"choices\": [\n",
       "    {\n",
       "      \"text\": \"\\n\\nQ1. What is the name of a popular programming language?\\nA. Java \\nB. Python \\nC. C++ \\nD. JavaScript\\nCorrect Answer : B. Python \\n\\nQ2. What is the purpose of a for loop in Python?\\nA. To store data \\nB. To iterate over a sequence \\nC. To create a function \\nD. To define a variable\\nCorrect Answer : B. To iterate over a sequence \\n\\nQ3. What is a string in Python?\\nA. A sequence of characters \\nB. A data type \\nC. A collection of data \\nD. A loop\\nCorrect Answer : A. A sequence of characters \\n\\nQ4. What is the correct syntax to define a function in Python?\\nA. def function_name \\nB. function_name() \\nC. function function_name \\nD. create function_name\\nCorrect Answer : A. def function_name\",\n",
       "      \"index\": 0,\n",
       "      \"logprobs\": null,\n",
       "      \"finish_reason\": \"stop\"\n",
       "    }\n",
       "  ],\n",
       "  \"usage\": {\n",
       "    \"prompt_tokens\": 39,\n",
       "    \"completion_tokens\": 213,\n",
       "    \"total_tokens\": 252\n",
       "  }\n",
       "}"
      ]
     },
     "execution_count": 4,
     "metadata": {},
     "output_type": "execute_result"
    }
   ],
   "source": [
    "response = openai.Completion.create(engine='text-davinci-003',\n",
    "                                    prompt = create_test_prompt(\"Python\", 4, 4),\n",
    "                                    max_tokens = 256,\n",
    "                                    temperature = 0.7)\n",
    "\n",
    "# Check the response now\n",
    "response"
   ]
  },
  {
   "cell_type": "code",
   "execution_count": 5,
   "metadata": {},
   "outputs": [
    {
     "data": {
      "text/plain": [
       "'\\n\\nQ1. What is the name of a popular programming language?\\nA. Java \\nB. Python \\nC. C++ \\nD. JavaScript\\nCorrect Answer : B. Python \\n\\nQ2. What is the purpose of a for loop in Python?\\nA. To store data \\nB. To iterate over a sequence \\nC. To create a function \\nD. To define a variable\\nCorrect Answer : B. To iterate over a sequence \\n\\nQ3. What is a string in Python?\\nA. A sequence of characters \\nB. A data type \\nC. A collection of data \\nD. A loop\\nCorrect Answer : A. A sequence of characters \\n\\nQ4. What is the correct syntax to define a function in Python?\\nA. def function_name \\nB. function_name() \\nC. function function_name \\nD. create function_name\\nCorrect Answer : A. def function_name'"
      ]
     },
     "execution_count": 5,
     "metadata": {},
     "output_type": "execute_result"
    }
   ],
   "source": [
    "# Parse the actual response prompt\n",
    "response['choices'][0]['text']"
   ]
  },
  {
   "cell_type": "markdown",
   "metadata": {},
   "source": [
    "## Q/A Extraction\n",
    "\n",
    "We now need to extract the questions and answers to present them to the students later"
   ]
  },
  {
   "cell_type": "code",
   "execution_count": 13,
   "metadata": {},
   "outputs": [],
   "source": [
    "def create_student_view(test, num_questions):\n",
    "    student_view = {1 : \"\"}\n",
    "    question_number = 1\n",
    "    for line in test.split(\"\\n\"):\n",
    "        if not line.startswith(\"Correct Answer :\"):\n",
    "            student_view[question_number] += line+\"\\n\"\n",
    "        else:\n",
    "\n",
    "            if question_number < num_questions:\n",
    "                question_number+=1\n",
    "                student_view[question_number] = \"\"\n",
    "    return student_view"
   ]
  },
  {
   "cell_type": "code",
   "execution_count": 14,
   "metadata": {},
   "outputs": [
    {
     "name": "stdout",
     "output_type": "stream",
     "text": [
      "{1: '\\n\\nQ1. What is the name of a popular programming language?\\nA. Java \\nB. Python \\nC. C++ \\nD. JavaScript\\n', 2: '\\nQ2. What is the purpose of a for loop in Python?\\nA. To store data \\nB. To iterate over a sequence \\nC. To create a function \\nD. To define a variable\\n', 3: '\\nQ3. What is a string in Python?\\nA. A sequence of characters \\nB. A data type \\nC. A collection of data \\nD. A loop\\n', 4: '\\nQ4. What is the correct syntax to define a function in Python?\\nA. def function_name \\nB. function_name() \\nC. function function_name \\nD. create function_name\\n'}\n"
     ]
    }
   ],
   "source": [
    "# test the function\n",
    "print(create_student_view(response['choices'][0]['text'], 4))"
   ]
  },
  {
   "cell_type": "code",
   "execution_count": 15,
   "metadata": {},
   "outputs": [],
   "source": [
    "# Now a function to extract the answers\n",
    "def extract_answers(test, num_questions):\n",
    "    answers = {1 : \"\"}\n",
    "    question_number = 1\n",
    "    for line in test.split(\"\\n\"):\n",
    "        if line.startswith(\"Correct Answer :\"):\n",
    "            answers[question_number] += line+\"\\n\"\n",
    "\n",
    "            if question_number < num_questions:\n",
    "                question_number+=1\n",
    "                answers[question_number] = \"\"\n",
    "    return answers"
   ]
  },
  {
   "cell_type": "code",
   "execution_count": 16,
   "metadata": {},
   "outputs": [
    {
     "name": "stdout",
     "output_type": "stream",
     "text": [
      "{1: 'Correct Answer : B. Python \\n', 2: 'Correct Answer : B. To iterate over a sequence \\n', 3: 'Correct Answer : A. A sequence of characters \\n', 4: 'Correct Answer : A. def function_name\\n'}\n"
     ]
    }
   ],
   "source": [
    "# test the function\n",
    "print(extract_answers(response['choices'][0]['text'], 4))"
   ]
  },
  {
   "cell_type": "markdown",
   "metadata": {},
   "source": [
    "## Exam Simulation\n",
    "\n",
    "Based on extracted questions, we can now simulate the exam"
   ]
  },
  {
   "cell_type": "code",
   "execution_count": 25,
   "metadata": {},
   "outputs": [],
   "source": [
    "def take(student_view):\n",
    "    answers = {}\n",
    "    for question, question_view in student_view.items():\n",
    "        print(question_view)\n",
    "        answer = input(\"Enter your answer: \")\n",
    "        answers[question] = answer\n",
    "    return answers"
   ]
  },
  {
   "cell_type": "code",
   "execution_count": 26,
   "metadata": {},
   "outputs": [
    {
     "name": "stdout",
     "output_type": "stream",
     "text": [
      "\n",
      "\n",
      "Q1. What is the name of a popular programming language?\n",
      "A. Java \n",
      "B. Python \n",
      "C. C++ \n",
      "D. JavaScript\n",
      "\n",
      "\n",
      "Q2. What is the purpose of a for loop in Python?\n",
      "A. To store data \n",
      "B. To iterate over a sequence \n",
      "C. To create a function \n",
      "D. To define a variable\n",
      "\n",
      "\n",
      "Q3. What is a string in Python?\n",
      "A. A sequence of characters \n",
      "B. A data type \n",
      "C. A collection of data \n",
      "D. A loop\n",
      "\n",
      "\n",
      "Q4. What is the correct syntax to define a function in Python?\n",
      "A. def function_name \n",
      "B. function_name() \n",
      "C. function function_name \n",
      "D. create function_name\n",
      "\n"
     ]
    }
   ],
   "source": [
    "student_answers = take(create_student_view(response[\"choices\"][0][\"text\"], 4))"
   ]
  },
  {
   "cell_type": "markdown",
   "metadata": {},
   "source": [
    "## Automatic Grading \n",
    "\n",
    "Based on the student's answers and correct answers, we can now grade the test!"
   ]
  },
  {
   "cell_type": "code",
   "execution_count": 27,
   "metadata": {},
   "outputs": [],
   "source": [
    "def grade(correct_answer_dict, answers):\n",
    "    correct_answers = 0\n",
    "    for question, answer in answers.items():\n",
    "        if answer.upper() == correct_answer_dict[question].upper()[16]:\n",
    "            correct_answers+=1\n",
    "    grade = 100 * correct_answers / len(answers)\n",
    "\n",
    "    if grade < 60:\n",
    "        passed = \"Not passed!\"\n",
    "    else:\n",
    "        passed = \"Passed!\"\n",
    "    return f\"{correct_answers} out of {len(answers)} correct! You achieved: {grade} % : {passed}\""
   ]
  },
  {
   "cell_type": "code",
   "execution_count": 28,
   "metadata": {},
   "outputs": [
    {
     "data": {
      "text/plain": [
       "'0 out of 4 correct! You achieved: 0.0 % : Not passed!'"
      ]
     },
     "execution_count": 28,
     "metadata": {},
     "output_type": "execute_result"
    }
   ],
   "source": [
    "grade(extract_answers(response[\"choices\"][0][\"text\"], 4), student_answers)"
   ]
  },
  {
   "cell_type": "code",
   "execution_count": null,
   "metadata": {},
   "outputs": [],
   "source": []
  }
 ],
 "metadata": {
  "kernelspec": {
   "display_name": "tensorflow",
   "language": "python",
   "name": "python3"
  },
  "language_info": {
   "codemirror_mode": {
    "name": "ipython",
    "version": 3
   },
   "file_extension": ".py",
   "mimetype": "text/x-python",
   "name": "python",
   "nbconvert_exporter": "python",
   "pygments_lexer": "ipython3",
   "version": "3.10.12"
  },
  "orig_nbformat": 4
 },
 "nbformat": 4,
 "nbformat_minor": 2
}
